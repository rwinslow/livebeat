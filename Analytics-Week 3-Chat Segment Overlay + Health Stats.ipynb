{
 "cells": [
  {
   "cell_type": "code",
   "execution_count": 1,
   "metadata": {
    "collapsed": false
   },
   "outputs": [],
   "source": [
    "import csv\n",
    "import json\n",
    "import os\n",
    "import re\n",
    "import sys\n",
    "\n",
    "from PIL import Image, ImageFilter\n",
    "import imageio\n",
    "import numpy as np\n",
    "import pandas as pd\n",
    "import statsmodels.api as sm\n",
    "import matplotlib.pyplot as plt\n",
    "%matplotlib inline\n",
    "from sklearn.linear_model import LogisticRegression\n",
    "from scipy import ndimage as ndi\n",
    "from skimage import feature\n",
    "from scipy.fftpack import rfft, irfft, fftfreq, rfftfreq\n",
    "from scipy import interpolate\n",
    "\n",
    "def file_tree(start):\n",
    "    \"\"\"Generate file list in directory\"\"\"\n",
    "    file_list = []\n",
    "    for root, dirs, files in os.walk(start):\n",
    "        for f in files:\n",
    "            if f[0] != '.':\n",
    "                file_list.append(f)\n",
    "    return file_list\n",
    "\n",
    "\n",
    "def process_data(data):\n",
    "    \"\"\"Process JSON data\"\"\"\n",
    "    attr = data['attributes']\n",
    "\n",
    "    timestamp = attr['timestamp']\n",
    "    message = attr['message']\n",
    "    author = attr['from']\n",
    "    turbo = attr['tags']['turbo']\n",
    "    sub = attr['tags']['subscriber']\n",
    "\n",
    "    try:\n",
    "        emotes = attr['tags']['emotes']\n",
    "        emote_count = sum([len(emotes[key]) for key in emotes.keys()])\n",
    "    except:\n",
    "        emote_count = 0\n",
    "    \n",
    "    row = {\n",
    "        'timestamp': timestamp,\n",
    "        'author': author,\n",
    "        'message': message,\n",
    "        'turbo': turbo,\n",
    "        'sub': sub,\n",
    "        'emote_count': emote_count\n",
    "    }\n",
    "\n",
    "    return row\n",
    "\n",
    "\n",
    "def high_pass_filter(freq, amp, min_freq):\n",
    "    df = pd.DataFrame(amp, index=freq, columns=['Amplitude'])\n",
    "    df = df.copy()\n",
    "    df[df.index < min_freq] = 0\n",
    "    return df\n",
    "\n",
    "def low_pass_filter(freq, amp, max_freq):\n",
    "    df = pd.DataFrame(amp, index=freq, columns=['Amplitude'])\n",
    "    df = df.copy()\n",
    "    df[df.index > max_freq] = 0\n",
    "    return df\n",
    "\n",
    "def round_to_val(x, val=30):\n",
    "    return int(np.round(x/val) * val)\n",
    "\n",
    "def build_time_frame(ts, before=60, after=10):\n",
    "    return [ts-before, ts+after]\n",
    "\n",
    "def build_time_window(ts, before=60, after=10):\n",
    "    return np.arange(ts-before, ts+after)\n",
    "\n",
    "def fix_overlap(intervals):\n",
    "    all_vals = [list(np.arange(interval[0], interval[1]+1)) for interval in intervals]\n",
    "    all_vals = sorted(list(set([v for row in all_vals for v in row])))\n",
    "    intervals = []\n",
    "    start = 0\n",
    "    for i in range(0, len(all_vals)-1):\n",
    "        if not start:\n",
    "            start = all_vals[i]\n",
    "        elif all_vals[i+1] - all_vals[i] > 1:\n",
    "            intervals.append([start, all_vals[i]])\n",
    "            start = 0\n",
    "        elif i + 1 == len(all_vals) - 1:\n",
    "            intervals.append([start, all_vals[i+1]])\n",
    "    return intervals"
   ]
  },
  {
   "cell_type": "code",
   "execution_count": 46,
   "metadata": {
    "collapsed": false
   },
   "outputs": [],
   "source": [
    "# Get file list\n",
    "start = '/Users/Rich/Documents/Twitch/chat/v83196893'\n",
    "file_list = file_tree(start)\n",
    "df = []\n",
    "\n",
    "# Aggregate files into dictionary\n",
    "for file in file_list:\n",
    "    get_path = os.path.join(start, file)\n",
    "    with open(get_path) as f:\n",
    "        # Format line and separate multiple JSON strings with commas\n",
    "        line = '[{}]'.format(f.readline()).replace('}}{', '}},{')\n",
    "        data = json.loads(line)[0]\n",
    "\n",
    "        for message in data['data']:\n",
    "            df.append(process_data(message))\n",
    "\n",
    "# Create data frame from chat data and convert ms to s\n",
    "df = pd.DataFrame(df)\n",
    "minimum = df['timestamp'].min()\n",
    "maximum = df['timestamp'].max()\n",
    "df['timestamp'] = df['timestamp'].apply(lambda x: x - minimum)\n",
    "df['secondstamp'] = df['timestamp'].apply(lambda x: int(round(x/1000)))\n",
    "df['30sec_stamp'] = df['timestamp'].apply(lambda x: int(round(x/1000/30)*30))\n",
    "\n",
    "# Create chat frequency data frame where index is no. of seconds into video\n",
    "chat_freq = df['30sec_stamp'].value_counts().sort_index()\n",
    "chat_freq = pd.DataFrame(chat_freq)\n",
    "chat_freq.columns = ['frequency']"
   ]
  },
  {
   "cell_type": "code",
   "execution_count": 53,
   "metadata": {
    "collapsed": false
   },
   "outputs": [
    {
     "data": {
      "text/html": [
       "<div>\n",
       "<table border=\"1\" class=\"dataframe\">\n",
       "  <thead>\n",
       "    <tr style=\"text-align: right;\">\n",
       "      <th></th>\n",
       "      <th>second</th>\n",
       "      <th>red</th>\n",
       "      <th>green</th>\n",
       "      <th>game</th>\n",
       "    </tr>\n",
       "  </thead>\n",
       "  <tbody>\n",
       "    <tr>\n",
       "      <th>0</th>\n",
       "      <td>600.0</td>\n",
       "      <td>1</td>\n",
       "      <td>31</td>\n",
       "      <td>0</td>\n",
       "    </tr>\n",
       "    <tr>\n",
       "      <th>1</th>\n",
       "      <td>1380.0</td>\n",
       "      <td>158</td>\n",
       "      <td>76</td>\n",
       "      <td>0</td>\n",
       "    </tr>\n",
       "    <tr>\n",
       "      <th>2</th>\n",
       "      <td>1440.0</td>\n",
       "      <td>118</td>\n",
       "      <td>93</td>\n",
       "      <td>0</td>\n",
       "    </tr>\n",
       "    <tr>\n",
       "      <th>3</th>\n",
       "      <td>4020.0</td>\n",
       "      <td>36</td>\n",
       "      <td>0</td>\n",
       "      <td>0</td>\n",
       "    </tr>\n",
       "    <tr>\n",
       "      <th>4</th>\n",
       "      <td>4620.0</td>\n",
       "      <td>204</td>\n",
       "      <td>175</td>\n",
       "      <td>0</td>\n",
       "    </tr>\n",
       "  </tbody>\n",
       "</table>\n",
       "</div>"
      ],
      "text/plain": [
       "   second  red  green  game\n",
       "0   600.0    1     31     0\n",
       "1  1380.0  158     76     0\n",
       "2  1440.0  118     93     0\n",
       "3  4020.0   36      0     0\n",
       "4  4620.0  204    175     0"
      ]
     },
     "execution_count": 53,
     "metadata": {},
     "output_type": "execute_result"
    }
   ],
   "source": [
    "stats = pd.read_csv('./statuses/test.csv')\n",
    "try:\n",
    "    stats = stats.drop('Unnamed: 0', 1)\n",
    "except:\n",
    "    pass\n",
    "stats = stats.fillna(0)\n",
    "stats.rename(columns={'frame': 'second'}, inplace=True)\n",
    "stats['second'] = stats['second'].apply(lambda x: x/60)\n",
    "stats['game'] = 0\n",
    "stats.head()"
   ]
  },
  {
   "cell_type": "code",
   "execution_count": 54,
   "metadata": {
    "collapsed": false
   },
   "outputs": [],
   "source": [
    "# Set filename\n",
    "filename = '/Users/Rich/Documents/Twitch/video/dota2ti_v83196893_720p30.mp4'\n",
    "\n",
    "# Get video id\n",
    "video_id = re.findall('v\\d+', filename)[0]\n",
    "\n",
    "# Open file handle\n",
    "vid = imageio.get_reader(filename, 'ffmpeg')\n",
    "\n",
    "# Get metadata\n",
    "meta = vid.get_meta_data()\n",
    "fps = int(meta['fps'])\n",
    "nframes = meta['nframes']\n",
    "frames = np.arange(0, int(nframes), 1)\n",
    "\n",
    "# Close video\n",
    "vid.close()\n",
    "\n",
    "# Convert frames to seconds and initialize data frame\n",
    "values = [0] * int(len(frames)/fps)\n",
    "df = pd.DataFrame(values).reset_index()\n",
    "df.columns = ['second', 'game']\n",
    "smear_df = df.copy()\n",
    "\n",
    "# Import timecode data\n",
    "timecodes = pd.read_csv('./timecodes/timecodes_v83196893.csv', names=['start', 'stop'])\n",
    "timecodes = timecodes.astype(int)\n",
    "\n",
    "# Smear timecodes to remove anything < 30 seconds long\n",
    "smear_tc = timecodes[timecodes['stop'] - timecodes['start'] >= 30000].reset_index(drop=True)\n",
    "\n",
    "# Run through smeared timecodes and flip switches on correct seconds of video\n",
    "for i in smear_tc.index:\n",
    "    row = smear_tc.iloc[i][['start', 'stop']]\n",
    "    start = row[0]/fps\n",
    "    stop = row[1]/fps\n",
    "    df.loc[(df.index >= start) & (df.index < stop), 'game'] = 1\n",
    "    stats.loc[(stats['second'] >= start) & (stats['second'] < stop), 'game'] = 1\n",
    "    stats.loc[(stats['second'] == start) | (stats['second'] == stop), 'game'] = 0"
   ]
  },
  {
   "cell_type": "code",
   "execution_count": 55,
   "metadata": {
    "collapsed": false
   },
   "outputs": [],
   "source": [
    "# Adjust stats to center both and get z-score\n",
    "stats.loc[(stats['game'] != 1, ['red', 'green'])] = 0\n",
    "stats['red_z'] = (stats['red'] - stats['red'].mean())/stats['red'].std(ddof=0)\n",
    "stats['green_z'] = (stats['green'] - stats['green'].mean())/stats['green'].std(ddof=0)\n",
    "stats['red'] = stats['red'].apply(lambda x: (x - stats['red'].mean()))\n",
    "stats['green'] = stats['green'].apply(lambda x: (x - stats['green'].mean()))"
   ]
  },
  {
   "cell_type": "code",
   "execution_count": 56,
   "metadata": {
    "collapsed": false
   },
   "outputs": [
    {
     "data": {
      "text/plain": [
       "[<matplotlib.lines.Line2D at 0x125daff28>]"
      ]
     },
     "execution_count": 56,
     "metadata": {},
     "output_type": "execute_result"
    },
    {
     "data": {
      "image/png": "[encoded data removed]",
      "text/plain": [
       "<matplotlib.figure.Figure at 0x1201c2438>"
      ]
     },
     "metadata": {},
     "output_type": "display_data"
    }
   ],
   "source": [
    "fig, ax1 = plt.subplots(figsize=(18,2))\n",
    "ax2 = ax1.twinx()\n",
    "ax3 = ax1.twinx()\n",
    "ax4 = ax1.twinx()\n",
    "ax1.plot(df.index, df['game'], '.b')\n",
    "ax2.plot(chat_freq.index, chat_freq['frequency'], '-k')\n",
    "ax3.plot(stats['second'], stats['red_z'], '-r')\n",
    "ax3.plot(stats['second'], stats['green_z'], '-g')"
   ]
  },
  {
   "cell_type": "code",
   "execution_count": null,
   "metadata": {
    "collapsed": false
   },
   "outputs": [],
   "source": [
    "df_copy = df[0:len(chat_freq)]\n",
    "cf_copy['game'] = df_copy['game']\n",
    "cf_copy.loc[cf_copy['game'] != 1, 'game'] = 0\n",
    "\n",
    "fig, ax1 = plt.subplots(figsize=(18,2))\n",
    "ax2 = ax1.twinx()\n",
    "ax1.plot(df.index, df['game'], '.b')\n",
    "ax2.plot(cf_copy.index, cf_copy['frequency'], '-r')"
   ]
  },
  {
   "cell_type": "code",
   "execution_count": null,
   "metadata": {
    "collapsed": false
   },
   "outputs": [],
   "source": [
    "# Generate CDF\n",
    "cdf = cf_copy['frequency'].loc[cf_copy['frequency'] > 0].sort_values()\n",
    "cum_dist = np.linspace(0.,1.,len(cdf))\n",
    "cdf = pd.Series(cum_dist, index=cdf)\n",
    "cdf.plot(drawstyle='steps')"
   ]
  },
  {
   "cell_type": "code",
   "execution_count": null,
   "metadata": {
    "collapsed": false
   },
   "outputs": [],
   "source": [
    "# Generate CDF\n",
    "cdf = cf_copy['frequency'].loc[cf_copy['frequency'] > 0].sort_values()\n",
    "cdf = cdf.apply(lambda x: np.log(x))\n",
    "cum_dist = np.linspace(0.,1.,len(cdf))\n",
    "cdf = pd.Series(cum_dist, index=cdf)\n",
    "cdf.plot(drawstyle='steps')"
   ]
  },
  {
   "cell_type": "code",
   "execution_count": null,
   "metadata": {
    "collapsed": false
   },
   "outputs": [],
   "source": [
    "cf_filt = cf_copy.copy()\n",
    "freq_max = cf_filt['frequency'].max()\n",
    "threshold = 0.4\n",
    "cf_filt.loc[cf_filt['frequency'] < threshold * freq_max, 'frequency'] = 0\n",
    "\n",
    "fig, ax1 = plt.subplots(figsize=(18,2))\n",
    "ax2 = ax1.twinx()\n",
    "ax1.plot(df.index, df['game'], '.b')\n",
    "ax2.plot(cf_filt.index, cf_filt['frequency'], '-r')"
   ]
  },
  {
   "cell_type": "code",
   "execution_count": null,
   "metadata": {
    "collapsed": false
   },
   "outputs": [],
   "source": [
    "threshold_times = list(cf_filt.loc[cf_filt['frequency'] > 0].index)\n",
    "\n",
    "time_frames = fix_overlap([build_time_frame(t, 3, 3) for t in threshold_times])"
   ]
  },
  {
   "cell_type": "code",
   "execution_count": null,
   "metadata": {
    "collapsed": true
   },
   "outputs": [],
   "source": [
    "df_interesting = df.copy()\n",
    "df_interesting['game'] = 0\n",
    "for row in time_frames:\n",
    "    start, stop = row\n",
    "    df_interesting.loc[(df.index >= start) & (df.index < stop), 'game'] = 1"
   ]
  },
  {
   "cell_type": "code",
   "execution_count": null,
   "metadata": {
    "collapsed": false
   },
   "outputs": [],
   "source": [
    "cf_filt = cf_copy.copy()\n",
    "freq_max = cf_filt['frequency'].max()\n",
    "threshold = 0.4\n",
    "cf_filt.loc[cf_filt['frequency'] < threshold * freq_max, 'frequency'] = 0\n",
    "\n",
    "fig, ax1 = plt.subplots(figsize=(18,2))\n",
    "ax2 = ax1.twinx()\n",
    "ax1.plot(df_interesting.index, df_interesting['game'], '.b')\n",
    "ax2.plot(cf_filt.index, cf_filt['frequency'], '-r')"
   ]
  },
  {
   "cell_type": "code",
   "execution_count": null,
   "metadata": {
    "collapsed": false
   },
   "outputs": [],
   "source": [
    "time_frames"
   ]
  },
  {
   "cell_type": "code",
   "execution_count": null,
   "metadata": {
    "collapsed": false
   },
   "outputs": [],
   "source": [
    "threshold_times = list(cf_filt.loc[cf_filt['frequency'] > 0].index)\n",
    "time_frames = fix_overlap([build_time_frame(t,1,0) for t in threshold_times])\n",
    "\n",
    "df_uninteresting = df.copy()\n",
    "df_uninteresting['game'] = 0\n",
    "for row in time_frames:\n",
    "    start, stop = row\n",
    "    df_uninteresting.loc[(df.index >= start) & (df.index < stop), 'game'] = 1\n",
    "\n",
    "cf_filt = cf_copy.copy()\n",
    "freq_max = cf_filt['frequency'].max()\n",
    "threshold = 0.4\n",
    "cf_filt.loc[cf_filt['frequency'] > threshold * freq_max, 'frequency'] = 0\n",
    "\n",
    "fig, ax1 = plt.subplots(figsize=(18,2))\n",
    "ax2 = ax1.twinx()\n",
    "ax1.plot(df_uninteresting.index, df_uninteresting['game'], '.b')\n",
    "ax2.plot(cf_filt.index, cf_filt['frequency'], '-r')"
   ]
  },
  {
   "cell_type": "code",
   "execution_count": 58,
   "metadata": {
    "collapsed": false
   },
   "outputs": [
    {
     "data": {
      "text/html": [
       "<div>\n",
       "<table border=\"1\" class=\"dataframe\">\n",
       "  <thead>\n",
       "    <tr style=\"text-align: right;\">\n",
       "      <th></th>\n",
       "      <th>second</th>\n",
       "      <th>game</th>\n",
       "    </tr>\n",
       "  </thead>\n",
       "  <tbody>\n",
       "    <tr>\n",
       "      <th>0</th>\n",
       "      <td>0</td>\n",
       "      <td>0</td>\n",
       "    </tr>\n",
       "    <tr>\n",
       "      <th>1</th>\n",
       "      <td>1</td>\n",
       "      <td>0</td>\n",
       "    </tr>\n",
       "    <tr>\n",
       "      <th>2</th>\n",
       "      <td>2</td>\n",
       "      <td>0</td>\n",
       "    </tr>\n",
       "    <tr>\n",
       "      <th>3</th>\n",
       "      <td>3</td>\n",
       "      <td>0</td>\n",
       "    </tr>\n",
       "    <tr>\n",
       "      <th>4</th>\n",
       "      <td>4</td>\n",
       "      <td>0</td>\n",
       "    </tr>\n",
       "  </tbody>\n",
       "</table>\n",
       "</div>"
      ],
      "text/plain": [
       "   second  game\n",
       "0       0     0\n",
       "1       1     0\n",
       "2       2     0\n",
       "3       3     0\n",
       "4       4     0"
      ]
     },
     "execution_count": 58,
     "metadata": {},
     "output_type": "execute_result"
    }
   ],
   "source": [
    "df.head()"
   ]
  },
  {
   "cell_type": "code",
   "execution_count": 60,
   "metadata": {
    "collapsed": false
   },
   "outputs": [
    {
     "ename": "NameError",
     "evalue": "name 'cf' is not defined",
     "output_type": "error",
     "traceback": [
      "\u001b[0;31m---------------------------------------------------------------------------\u001b[0m",
      "\u001b[0;31mNameError\u001b[0m                                 Traceback (most recent call last)",
      "\u001b[0;32m<ipython-input-60-abbaa95853ca>\u001b[0m in \u001b[0;36m<module>\u001b[0;34m()\u001b[0m\n\u001b[0;32m----> 1\u001b[0;31m \u001b[0mcf\u001b[0m\u001b[0;34m.\u001b[0m\u001b[0mhead\u001b[0m\u001b[0;34m(\u001b[0m\u001b[0;34m)\u001b[0m\u001b[0;34m\u001b[0m\u001b[0m\n\u001b[0m",
      "\u001b[0;31mNameError\u001b[0m: name 'cf' is not defined"
     ]
    }
   ],
   "source": []
  },
  {
   "cell_type": "code",
   "execution_count": null,
   "metadata": {
    "collapsed": true
   },
   "outputs": [],
   "source": []
  }
 ],
 "metadata": {
  "anaconda-cloud": {},
  "kernelspec": {
   "display_name": "Python [twitch3]",
   "language": "python",
   "name": "Python [twitch3]"
  },
  "language_info": {
   "codemirror_mode": {
    "name": "ipython",
    "version": 3
   },
   "file_extension": ".py",
   "mimetype": "text/x-python",
   "name": "python",
   "nbconvert_exporter": "python",
   "pygments_lexer": "ipython3",
   "version": "3.5.2"
  }
 },
 "nbformat": 4,
 "nbformat_minor": 0
}
