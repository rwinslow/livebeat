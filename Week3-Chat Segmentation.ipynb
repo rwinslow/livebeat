{
 "cells": [
  {
   "cell_type": "code",
   "execution_count": 3,
   "metadata": {
    "collapsed": false
   },
   "outputs": [],
   "source": [
    "import json\n",
    "import os\n",
    "import re\n",
    "import sys\n",
    "import warnings\n",
    "\n",
    "import cv2\n",
    "import imageio\n",
    "import numpy as np\n",
    "import pandas as pd\n",
    "import matplotlib\n",
    "matplotlib.use('Agg')\n",
    "import matplotlib.pyplot as plt\n",
    "import scipy.io.wavfile as wavfile\n",
    "from PIL import Image, ImageFilter\n",
    "from sklearn import decomposition\n",
    "from sklearn.preprocessing import PolynomialFeatures, normalize\n",
    "from sklearn.linear_model import LogisticRegression\n",
    "from scipy.misc import imresize\n",
    "from skimage import feature, color\n",
    "%matplotlib inline\n",
    "\n",
    "# Hide scikit-learn warnings\n",
    "warnings.filterwarnings(\"ignore\", category=DeprecationWarning)\n",
    "\n",
    "def file_list(start_dir):\n",
    "    \"\"\"Generate file list in directory\"\"\"\n",
    "    file_list = []\n",
    "    for root, dirs, files in os.walk(start_dir):\n",
    "        for f in files:\n",
    "            if f[0] != '.':\n",
    "                file_list.append(f)\n",
    "    return file_list\n",
    "\n",
    "def hog_img(img):\n",
    "    \"\"\"Generate Histogram of Oriented Gradients for image\"\"\"\n",
    "    # img = np.asarray(img)\n",
    "    hogged, hogged_img = feature.hog(color.rgb2gray(img), visualise=True)\n",
    "    return hogged\n",
    "\n",
    "def img2features(img):\n",
    "    return hog_img(img)\n",
    "\n",
    "def scene_detection(positive_path, negative_path):\n",
    "    \"\"\"Train scene detection classifier\"\"\"\n",
    "\n",
    "    # Print status\n",
    "    print('Training scene detection classifier')\n",
    "\n",
    "    # Build training set of classified images\n",
    "    positive_list = file_list(positive_path)\n",
    "    negative_list = file_list(negative_path)\n",
    "    X = []\n",
    "    y = []\n",
    "\n",
    "    for f in positive_list:\n",
    "        img = np.array(Image.open(os.path.join(positive_path, f)))\n",
    "        X.append(img2features(img))\n",
    "        y.append(1)\n",
    "\n",
    "    for f in negative_list:\n",
    "        img = np.array(Image.open(os.path.join(negative_path, f)))\n",
    "        X.append(img2features(img))\n",
    "        y.append(0)\n",
    "\n",
    "    # PCA to get valuable features\n",
    "    pca = decomposition.PCA(n_components=4)\n",
    "    pca.fit(X)\n",
    "    X = pca.transform(X)\n",
    "\n",
    "    # Train model\n",
    "    model = LogisticRegression()\n",
    "    model.fit(X, y)\n",
    "\n",
    "    return (model, pca)\n",
    "\n",
    "def get_health_status(img, **kwargs):\n",
    "    # Player status\n",
    "    h, w, c = img.shape\n",
    "    factor = 0.226\n",
    "    y1 = int(h * 0.044)\n",
    "    x1 = int(w * (0.5 - factor))\n",
    "    y2 = y1+1\n",
    "    x2 = int(w * (0.5 + factor))\n",
    "    pl_status = img[y1:y2, x1:x2, :]\n",
    "\n",
    "    # Block out center of player status\n",
    "    h, w, c = pl_status.shape\n",
    "    factor = .12\n",
    "    x1 = int(np.round(w * (0.5 - factor)))+1\n",
    "    x2 = int(np.round(w * (0.5 + factor)))\n",
    "    pl_status[:, x1:x2, :] = 0\n",
    "\n",
    "    pl_status = pl_status[:,:,::-1] # Put player status from RGB to BGR for OpenCV\n",
    "    hsv = cv2.cvtColor(pl_status,cv2.COLOR_BGR2HSV)\n",
    "    h = cv2.calcHist([hsv], [0], None, [256], [0,256])\n",
    "    s = cv2.calcHist([hsv], [1], None, [256], [0,256])\n",
    "    v = cv2.calcHist([hsv], [2], None, [256], [0,256])\n",
    "\n",
    "    # Initialize colors\n",
    "    red = int(sum(h[1:15]))\n",
    "    green = int(sum(h[50:65]))\n",
    "    if red == 0 or green == 0:\n",
    "        return (0, 0)\n",
    "    # else:\n",
    "    #     # Save image for validation\n",
    "    #     basepath = '/Volumes/Passport/LiveBeat/'\n",
    "    #     save_path = os.path.join(basepath, 'validation', '{}.png'.format(i))\n",
    "    #     Image.fromarray(pl_status).save(save_path)\n",
    "    return (red, green)\n",
    "\n",
    "def segmenter(video_path, model, pca, threshold=0.5, seconds_between_frames=60):\n",
    "    \"\"\"Generate timecodes for game and non-game segments\"\"\"\n",
    "\n",
    "    # Print status\n",
    "    print('Finding timecodes for segments')\n",
    "\n",
    "    # Open file handle\n",
    "    vid = imageio.get_reader(video_path, 'ffmpeg')\n",
    "\n",
    "    # Get metadata and select 1 frame every n seconds\n",
    "    meta = vid.get_meta_data()\n",
    "    fps = int(np.round(meta['fps']))\n",
    "    nframes = meta['nframes']\n",
    "    frames = np.arange(0, nframes, seconds_between_frames*fps)\n",
    "\n",
    "    # Check frames\n",
    "    timecodes = []\n",
    "    statuses = []\n",
    "    start_time = end_time = 0\n",
    "    segment = 1\n",
    "    switch = False\n",
    "    \n",
    "    # Run through frames and find segments\n",
    "    for i in frames:\n",
    "        img = vid.get_data(i)\n",
    "\n",
    "        # Resize image appropriately for training set\n",
    "        img = imresize(img, (720, 1280))\n",
    "\n",
    "        # Isolate shop button\n",
    "        h, w, c = img.shape\n",
    "        x1 = int(w * .94)\n",
    "        x2 = x1 + 76\n",
    "        y1 = int(h * .814)\n",
    "        y2 = y1 + 26\n",
    "        shop = img[y1:y2, x1:x2, :]\n",
    "\n",
    "        # Get player status\n",
    "        red, green = get_health_status(img, i=i)\n",
    "\n",
    "        # Generate predictions for each selected frame\n",
    "        features = pca.transform(img2features(shop))\n",
    "        features = np.array(features).reshape(1, -1)\n",
    "        prediction = model.predict(features)\n",
    "\n",
    "        second = int(i/fps)\n",
    "        if prediction >= threshold:\n",
    "            switch = True\n",
    "            statuses.append([second, red, green, segment])\n",
    "        else:\n",
    "            if switch:\n",
    "                segment += 1\n",
    "            switch = False\n",
    "            statuses.append([second, 0, 0, 0])\n",
    "\n",
    "    # Close video handle to release thread and buffer\n",
    "    vid.close()\n",
    "\n",
    "    # Process status results and filter out short sections\n",
    "    for i in range(1, len(statuses)-3):\n",
    "        if (statuses[i][3] == 1\n",
    "            and statuses[i-1][3] == 0\n",
    "            and statuses[i+2][3] == 0):\n",
    "            statuses[i][1:] = (0, 0, 0)\n",
    "            statuses[i+1][1:] = (0, 0, 0)\n",
    "\n",
    "    status = pd.DataFrame(statuses)\n",
    "    status.columns = ['second', 'red', 'green', 'game']\n",
    "\n",
    "    # status.to_csv('/Users/Rich/Documents/Twitch/statuses/color_hist_check.csv')\n",
    "    #\n",
    "    # red_threshold = status['red'].mean() + 3*status['red'].std()\n",
    "    # status.loc[\n",
    "    #         status['red'] > red_threshold, 'red'\n",
    "    # ] = status['red'].median()\n",
    "    #\n",
    "    # green_threshold = status['green'].mean() + 3*status['green'].std()\n",
    "    # status.loc[\n",
    "    #         status['green'] > red_threshold, 'green'\n",
    "    # ] = status['green'].median()\n",
    "\n",
    "    red_max = status['red'].max()\n",
    "    green_max = status['green'].max()\n",
    "    status['red'] = status['red'].apply(\n",
    "            lambda x: x/red_max\n",
    "    ).round(2)\n",
    "    status['green'] = status['green'].apply(\n",
    "            lambda x: -1*x/green_max\n",
    "    ).round(2)\n",
    "\n",
    "    return status\n",
    "\n",
    "def query_to_video(query):\n",
    "    video_id = re.findall('\\/(\\d+)', query)[0]\n",
    "    return video_id\n",
    "\n",
    "def compile_chat(chat_path, seconds_per_bin=60):\n",
    "    def agg_chat(data):\n",
    "        \"\"\"Aggregate JSON chat data into a row\"\"\"\n",
    "        attr = data['attributes']\n",
    "\n",
    "        timestamp = attr['timestamp']\n",
    "        message = attr['message']\n",
    "        author = attr['from']\n",
    "        turbo = attr['tags']['turbo']\n",
    "        sub = attr['tags']['subscriber']\n",
    "\n",
    "        try:\n",
    "            emotes = attr['tags']['emotes']\n",
    "            emote_count = sum([len(emotes[key]) for key in emotes.keys()])\n",
    "        except:\n",
    "            emote_count = 0\n",
    "\n",
    "        row = {\n",
    "            'timestamp': timestamp,\n",
    "            'author': author,\n",
    "            'message': message,\n",
    "            'turbo': turbo,\n",
    "            'sub': sub,\n",
    "            'emote_count': emote_count\n",
    "        }\n",
    "\n",
    "        return row\n",
    "\n",
    "    # Aggregate files into dictionary\n",
    "    aggregated = []\n",
    "    for f in file_list(chat_path):\n",
    "        get_path = os.path.join(chat_path, f)\n",
    "        with open(get_path) as c:\n",
    "\n",
    "            # Format line and separate multiple JSON strings with commas\n",
    "            line = '[{}]'.format(c.readline()).replace('}}{', '}},{')\n",
    "            data = json.loads(line)[0]\n",
    "\n",
    "            for message in data['data']:\n",
    "                result = agg_chat(message)\n",
    "                if result['emote_count'] == 0:\n",
    "                    aggregated.append(result)\n",
    "                else:\n",
    "                    aggregated.append(result)\n",
    "#                     pass\n",
    "\n",
    "    # Build data frame from chat results\n",
    "    df = pd.DataFrame(aggregated)\n",
    "    minimum = df['timestamp'].min()\n",
    "    maximum = df['timestamp'].max()\n",
    "    df['timestamp'] = df['timestamp'].apply(lambda x: x - minimum)\n",
    "    df['secondstamp'] = df['timestamp'].apply(\n",
    "        lambda x: int(round(x/1000/seconds_per_bin)*seconds_per_bin)\n",
    "    )\n",
    "    \n",
    "    return df\n",
    "    \n",
    "    # Create chat frequency data frame where index is no. of seconds into video\n",
    "    chat_freq = pd.DataFrame(df['secondstamp'].value_counts().sort_index())\n",
    "    chat_freq.columns = ['frequency']\n",
    "\n",
    "    # Normalize frequency for plotting\n",
    "    _max = chat_freq['frequency'].max()\n",
    "    _min = chat_freq['frequency'].min()\n",
    "    chat_freq['frequency'] = chat_freq['frequency'].apply(\n",
    "        lambda x: (x - _min) / (_max - _min)\n",
    "    )\n",
    "\n",
    "    # chat_freq.to_csv('/Users/Rich/Documents/Twitch/chat_scale/test.csv')\n",
    "\n",
    "    return chat_freq\n",
    "\n",
    "def process_audio(audio_path, integral_window=60):\n",
    "    # Read wave file and combine to 1 mono channel\n",
    "    sample_freq, audio = wavfile.read(audio_path)\n",
    "    channel = audio.mean(axis=1)\n",
    "\n",
    "    # Integrate over selected interval windows\n",
    "    integral = []\n",
    "    for i in np.arange(0, len(channel), integral_window*sample_freq):\n",
    "        integral.append(\n",
    "            sum(abs(channel[i:i+integral_window*sample_freq]))\n",
    "        )\n",
    "\n",
    "    # Min/max normalize result\n",
    "    integral = [(v - min(integral))/max(integral) for v in integral]\n",
    "\n",
    "    return integral\n",
    "\n",
    "def go():\n",
    "    # Define basepath for file locations\n",
    "    basepath = '/Volumes/Passport/LiveBeat/'\n",
    "    # basepath = '/Users/Rich/Documents/Twitch'\n",
    "\n",
    "    # Process query to identify video of request and get media paths\n",
    "    query = request.form['query']\n",
    "    video_id = query_to_video(query)\n",
    "\n",
    "    # Generate file paths\n",
    "    video_file = 'dota2ti_v{}_720p30.mp4'.format(video_id)\n",
    "    video_path = os.path.join(basepath, 'video', video_file)\n",
    "    chat_path = os.path.join(basepath, 'chat', 'v{}'.format(video_id))\n",
    "    audio_path = os.path.join(basepath, 'audio', 'a{}.wav'.format(video_id))\n",
    "\n",
    "    # Get chat data\n",
    "    chat = compile_chat(chat_path)\n",
    "\n",
    "    # Get audio data\n",
    "    graph_audio = process_audio(audio_path)\n",
    "\n",
    "    # Get scene detector and acquire game timecodes\n",
    "    positive_path = os.path.join(basepath, 'test_images_button')\n",
    "    negative_path = os.path.join(basepath, 'test_images_non-button')\n",
    "    model, pca = scene_detection(positive_path, negative_path)\n",
    "\n",
    "    status = segmenter(video_path, model, pca)\n",
    "    # status.to_csv('/Users/Rich/Documents/Twitch/statuses/test_value.csv')\n",
    "    # game = TEMP_HAVE_STAMPS(video_id)\n",
    "\n",
    "    # Build image for scrub plot\n",
    "    # basepath = '/Users/Rich/Documents/Flask/flaskexample/static/graphs'\n",
    "    # target_path = os.path.join(basepath, '{}.png'.format(video_id))\n",
    "\n",
    "    # Extract features to generate graphs\n",
    "    graph_x = ','.join(status['second'].values.astype(str).tolist())\n",
    "    graph_red = ','.join(status['red'].values.astype(str).tolist())\n",
    "    graph_green = ','.join(status['green'].values.astype(str).tolist())\n",
    "    graph_chat = ','.join(chat['frequency'].values.astype(str).tolist())\n",
    "    # graph_audio = ','.join(graph_audio)\n"
   ]
  },
  {
   "cell_type": "code",
   "execution_count": 4,
   "metadata": {
    "collapsed": false
   },
   "outputs": [],
   "source": [
    "# Define basepath for file locations\n",
    "basepath = '/Volumes/Passport/LiveBeat/'\n",
    "# basepath = '/Users/Rich/Documents/Twitch'\n",
    "\n",
    "# Process query to identify video of request and get media paths\n",
    "video_id = '83196893'\n",
    "\n",
    "# Generate file paths\n",
    "video_file = 'dota2ti_v{}_720p30.mp4'.format(video_id)\n",
    "video_path = os.path.join(basepath, 'video', video_file)\n",
    "chat_path = os.path.join(basepath, 'chat', 'v{}'.format(video_id))\n",
    "audio_path = os.path.join(basepath, 'audio', 'a{}.wav'.format(video_id))\n",
    "\n",
    "# Get chat data\n",
    "chat = compile_chat(chat_path)\n",
    "\n",
    "# # Get scene detector and acquire game timecodes\n",
    "# positive_path = os.path.join(basepath, 'test_images_button')\n",
    "# negative_path = os.path.join(basepath, 'test_images_non-button')\n",
    "# model, pca = scene_detection(positive_path, negative_path)\n",
    "\n",
    "# status = segmenter(video_path, model, pca)\n"
   ]
  },
  {
   "cell_type": "code",
   "execution_count": 67,
   "metadata": {
    "collapsed": false
   },
   "outputs": [
    {
     "name": "stdout",
     "output_type": "stream",
     "text": [
      "<class 'pandas.core.frame.DataFrame'>\n",
      "RangeIndex: 226714 entries, 0 to 226713\n",
      "Data columns (total 7 columns):\n",
      "author         226714 non-null object\n",
      "emote_count    226714 non-null int64\n",
      "message        226714 non-null object\n",
      "sub            226714 non-null bool\n",
      "timestamp      226714 non-null int64\n",
      "turbo          226714 non-null bool\n",
      "secondstamp    226714 non-null int64\n",
      "dtypes: bool(2), int64(3), object(2)\n",
      "memory usage: 9.1+ MB\n",
      "None\n"
     ]
    }
   ],
   "source": [
    "print(chat.info())"
   ]
  },
  {
   "cell_type": "code",
   "execution_count": 17,
   "metadata": {
    "collapsed": false
   },
   "outputs": [
    {
     "data": {
      "text/plain": [
       "(0, 1400)"
      ]
     },
     "execution_count": 17,
     "metadata": {},
     "output_type": "execute_result"
    },
    {
     "data": {
      "image/png": "[encoded data removed]",
      "text/plain": [
       "<matplotlib.figure.Figure at 0x11f97a748>"
      ]
     },
     "metadata": {},
     "output_type": "display_data"
    }
   ],
   "source": [
    "no_emotes = chat.loc[chat['emote_count'] == 0, ['emote_count', 'secondstamp', 'timestamp']]\n",
    "plt.figure(figsize=(18,2))\n",
    "plt.plot(no_emotes['secondstamp'].value_counts().sort_index().tolist())\n",
    "plt.ylim([0, 1400])"
   ]
  },
  {
   "cell_type": "code",
   "execution_count": 19,
   "metadata": {
    "collapsed": false
   },
   "outputs": [
    {
     "data": {
      "text/plain": [
       "(0, 1400)"
      ]
     },
     "execution_count": 19,
     "metadata": {},
     "output_type": "execute_result"
    },
    {
     "data": {
      "image/png": "[encoded data removed]",
      "text/plain": [
       "<matplotlib.figure.Figure at 0x11fa21320>"
      ]
     },
     "metadata": {},
     "output_type": "display_data"
    }
   ],
   "source": [
    "plt.figure(figsize=(18,2))\n",
    "plt.plot(chat['secondstamp'].value_counts().sort_index().tolist())\n",
    "plt.ylim([0, 1400])"
   ]
  },
  {
   "cell_type": "code",
   "execution_count": 18,
   "metadata": {
    "collapsed": false
   },
   "outputs": [
    {
     "data": {
      "text/plain": [
       "(0, 1400)"
      ]
     },
     "execution_count": 18,
     "metadata": {},
     "output_type": "execute_result"
    },
    {
     "data": {
      "image/png": "[encoded data removed]",
      "text/plain": [
       "<matplotlib.figure.Figure at 0x124674860>"
      ]
     },
     "metadata": {},
     "output_type": "display_data"
    }
   ],
   "source": [
    "emotes = chat.loc[chat['emote_count'] > 0, ['emote_count', 'secondstamp', 'timestamp']]\n",
    "plt.figure(figsize=(18,2))\n",
    "plt.plot(emotes['secondstamp'].value_counts().sort_index().tolist())\n",
    "plt.ylim([0, 1400])"
   ]
  },
  {
   "cell_type": "code",
   "execution_count": 55,
   "metadata": {
    "collapsed": false
   },
   "outputs": [
    {
     "data": {
      "text/plain": [
       "<matplotlib.collections.PathCollection at 0x121cc1240>"
      ]
     },
     "execution_count": 55,
     "metadata": {},
     "output_type": "execute_result"
    },
    {
     "data": {
      "image/png": "[encoded data removed]",
      "text/plain": [
       "<matplotlib.figure.Figure at 0x11d5e6a58>"
      ]
     },
     "metadata": {},
     "output_type": "display_data"
    }
   ],
   "source": [
    "# plt.figure(figsize=(18,2))\n",
    "# plt.plot(chat.loc[chat['emote_count'] == 5, ['emote_count', 'secondstamp', 'timestamp']]['secondstamp'].value_counts().sort_index().tolist())\n",
    "# plt.plot(chat.loc[chat['emote_count'] == 4, ['emote_count', 'secondstamp', 'timestamp']]['secondstamp'].value_counts().sort_index().tolist())\n",
    "# plt.plot(chat.loc[chat['emote_count'] == 3, ['emote_count', 'secondstamp', 'timestamp']]['secondstamp'].value_counts().sort_index().tolist())\n",
    "# plt.plot(chat.loc[chat['emote_count'] == 2, ['emote_count', 'secondstamp', 'timestamp']]['secondstamp'].value_counts().sort_index().tolist())\n",
    "emote1 = chat.loc[chat['emote_count'] == 1, ['emote_count', 'secondstamp', 'timestamp']]['secondstamp'].value_counts().sort_index().tolist()\n",
    "emote0 = chat.loc[chat['emote_count'] == 0, ['emote_count', 'secondstamp', 'timestamp']]['secondstamp'].value_counts().sort_index().tolist()\n",
    "emoteall = chat.loc[chat['emote_count'] > -1, ['emote_count', 'secondstamp', 'timestamp']]['secondstamp'].value_counts().sort_index().tolist()\n",
    "emoteall_norm = [(v-min(emoteall))/(max(emoteall)-min(emoteall)) for v in emoteall]\n",
    "emote0_norm = [(v-min(emote0))/(max(emote0)-min(emote0)) for v in emote0]\n",
    "emote1_norm = [(v-min(emote1))/(max(emote1)-min(emote1)) for v in emote1]\n",
    "plt.scatter(emote0_norm, emote1_norm)\n",
    "# plt.legend(['5', '4', '3', '2', '1', '0', 'All'])\n",
    "# plt.legend(['All', '0', '1'])\n",
    "# plt.xlabel('Minutes')\n",
    "# plt.ylabel('No. of Emotes')"
   ]
  },
  {
   "cell_type": "code",
   "execution_count": 64,
   "metadata": {
    "collapsed": false
   },
   "outputs": [
    {
     "data": {
      "text/plain": [
       "[<matplotlib.lines.Line2D at 0x12818dbe0>]"
      ]
     },
     "execution_count": 64,
     "metadata": {},
     "output_type": "execute_result"
    },
    {
     "data": {
      "image/png": "[encoded data removed]",
      "text/plain": [
       "<matplotlib.figure.Figure at 0x123fbddd8>"
      ]
     },
     "metadata": {},
     "output_type": "display_data"
    }
   ],
   "source": [
    "turbo = chat.loc[chat['turbo'] == True, ['emote_count', 'secondstamp', 'timestamp']]\n",
    "turbo_freq = subs['secondstamp'].value_counts().sort_index().tolist()\n",
    "turbo_norm = [(v-min(turbo_freq))/(max(turbo_freq)-min(turbo_freq)) for v in turbo_freq]\n",
    "fig = plt.figure(figsize=(18,2))\n",
    "plt.plot(turbo_norm)"
   ]
  },
  {
   "cell_type": "code",
   "execution_count": 65,
   "metadata": {
    "collapsed": false
   },
   "outputs": [
    {
     "ename": "ValueError",
     "evalue": "x and y must be the same size",
     "output_type": "error",
     "traceback": [
      "\u001b[0;31m---------------------------------------------------------------------------\u001b[0m",
      "\u001b[0;31mValueError\u001b[0m                                Traceback (most recent call last)",
      "\u001b[0;32m<ipython-input-65-1db726655889>\u001b[0m in \u001b[0;36m<module>\u001b[0;34m()\u001b[0m\n\u001b[0;32m----> 1\u001b[0;31m \u001b[0mplt\u001b[0m\u001b[0;34m.\u001b[0m\u001b[0mscatter\u001b[0m\u001b[0;34m(\u001b[0m\u001b[0mturbo_norm\u001b[0m\u001b[0;34m,\u001b[0m \u001b[0memote0_norm\u001b[0m\u001b[0;34m)\u001b[0m\u001b[0;34m\u001b[0m\u001b[0m\n\u001b[0m",
      "\u001b[0;32m/Users/Rich/Documents/anaconda/envs/twitch3/lib/python3.5/site-packages/matplotlib/pyplot.py\u001b[0m in \u001b[0;36mscatter\u001b[0;34m(x, y, s, c, marker, cmap, norm, vmin, vmax, alpha, linewidths, verts, edgecolors, hold, data, **kwargs)\u001b[0m\n\u001b[1;32m   3249\u001b[0m                          \u001b[0mvmin\u001b[0m\u001b[0;34m=\u001b[0m\u001b[0mvmin\u001b[0m\u001b[0;34m,\u001b[0m \u001b[0mvmax\u001b[0m\u001b[0;34m=\u001b[0m\u001b[0mvmax\u001b[0m\u001b[0;34m,\u001b[0m \u001b[0malpha\u001b[0m\u001b[0;34m=\u001b[0m\u001b[0malpha\u001b[0m\u001b[0;34m,\u001b[0m\u001b[0;34m\u001b[0m\u001b[0m\n\u001b[1;32m   3250\u001b[0m                          \u001b[0mlinewidths\u001b[0m\u001b[0;34m=\u001b[0m\u001b[0mlinewidths\u001b[0m\u001b[0;34m,\u001b[0m \u001b[0mverts\u001b[0m\u001b[0;34m=\u001b[0m\u001b[0mverts\u001b[0m\u001b[0;34m,\u001b[0m\u001b[0;34m\u001b[0m\u001b[0m\n\u001b[0;32m-> 3251\u001b[0;31m                          edgecolors=edgecolors, data=data, **kwargs)\n\u001b[0m\u001b[1;32m   3252\u001b[0m     \u001b[0;32mfinally\u001b[0m\u001b[0;34m:\u001b[0m\u001b[0;34m\u001b[0m\u001b[0m\n\u001b[1;32m   3253\u001b[0m         \u001b[0max\u001b[0m\u001b[0;34m.\u001b[0m\u001b[0mhold\u001b[0m\u001b[0;34m(\u001b[0m\u001b[0mwashold\u001b[0m\u001b[0;34m)\u001b[0m\u001b[0;34m\u001b[0m\u001b[0m\n",
      "\u001b[0;32m/Users/Rich/Documents/anaconda/envs/twitch3/lib/python3.5/site-packages/matplotlib/__init__.py\u001b[0m in \u001b[0;36minner\u001b[0;34m(ax, *args, **kwargs)\u001b[0m\n\u001b[1;32m   1810\u001b[0m                     warnings.warn(msg % (label_namer, func.__name__),\n\u001b[1;32m   1811\u001b[0m                                   RuntimeWarning, stacklevel=2)\n\u001b[0;32m-> 1812\u001b[0;31m             \u001b[0;32mreturn\u001b[0m \u001b[0mfunc\u001b[0m\u001b[0;34m(\u001b[0m\u001b[0max\u001b[0m\u001b[0;34m,\u001b[0m \u001b[0;34m*\u001b[0m\u001b[0margs\u001b[0m\u001b[0;34m,\u001b[0m \u001b[0;34m**\u001b[0m\u001b[0mkwargs\u001b[0m\u001b[0;34m)\u001b[0m\u001b[0;34m\u001b[0m\u001b[0m\n\u001b[0m\u001b[1;32m   1813\u001b[0m         \u001b[0mpre_doc\u001b[0m \u001b[0;34m=\u001b[0m \u001b[0minner\u001b[0m\u001b[0;34m.\u001b[0m\u001b[0m__doc__\u001b[0m\u001b[0;34m\u001b[0m\u001b[0m\n\u001b[1;32m   1814\u001b[0m         \u001b[0;32mif\u001b[0m \u001b[0mpre_doc\u001b[0m \u001b[0;32mis\u001b[0m \u001b[0;32mNone\u001b[0m\u001b[0;34m:\u001b[0m\u001b[0;34m\u001b[0m\u001b[0m\n",
      "\u001b[0;32m/Users/Rich/Documents/anaconda/envs/twitch3/lib/python3.5/site-packages/matplotlib/axes/_axes.py\u001b[0m in \u001b[0;36mscatter\u001b[0;34m(self, x, y, s, c, marker, cmap, norm, vmin, vmax, alpha, linewidths, verts, edgecolors, **kwargs)\u001b[0m\n\u001b[1;32m   3838\u001b[0m         \u001b[0my\u001b[0m \u001b[0;34m=\u001b[0m \u001b[0mnp\u001b[0m\u001b[0;34m.\u001b[0m\u001b[0mma\u001b[0m\u001b[0;34m.\u001b[0m\u001b[0mravel\u001b[0m\u001b[0;34m(\u001b[0m\u001b[0my\u001b[0m\u001b[0;34m)\u001b[0m\u001b[0;34m\u001b[0m\u001b[0m\n\u001b[1;32m   3839\u001b[0m         \u001b[0;32mif\u001b[0m \u001b[0mx\u001b[0m\u001b[0;34m.\u001b[0m\u001b[0msize\u001b[0m \u001b[0;34m!=\u001b[0m \u001b[0my\u001b[0m\u001b[0;34m.\u001b[0m\u001b[0msize\u001b[0m\u001b[0;34m:\u001b[0m\u001b[0;34m\u001b[0m\u001b[0m\n\u001b[0;32m-> 3840\u001b[0;31m             \u001b[0;32mraise\u001b[0m \u001b[0mValueError\u001b[0m\u001b[0;34m(\u001b[0m\u001b[0;34m\"x and y must be the same size\"\u001b[0m\u001b[0;34m)\u001b[0m\u001b[0;34m\u001b[0m\u001b[0m\n\u001b[0m\u001b[1;32m   3841\u001b[0m \u001b[0;34m\u001b[0m\u001b[0m\n\u001b[1;32m   3842\u001b[0m         \u001b[0ms\u001b[0m \u001b[0;34m=\u001b[0m \u001b[0mnp\u001b[0m\u001b[0;34m.\u001b[0m\u001b[0mma\u001b[0m\u001b[0;34m.\u001b[0m\u001b[0mravel\u001b[0m\u001b[0;34m(\u001b[0m\u001b[0ms\u001b[0m\u001b[0;34m)\u001b[0m  \u001b[0;31m# This doesn't have to match x, y in size.\u001b[0m\u001b[0;34m\u001b[0m\u001b[0m\n",
      "\u001b[0;31mValueError\u001b[0m: x and y must be the same size"
     ]
    },
    {
     "data": {
      "image/png": "[encoded data removed]",
      "text/plain": [
       "<matplotlib.figure.Figure at 0x11f5ced30>"
      ]
     },
     "metadata": {},
     "output_type": "display_data"
    }
   ],
   "source": [
    "turbo = chat.loc[chat['turbo'] == True, ['emote_count', 'secondstamp', 'timestamp']]\n",
    "turbo_freq = subs['secondstamp'].value_counts().sort_index().tolist()\n",
    "turbo_norm = [(v-min(turbo_freq))/(max(turbo_freq)-min(turbo_freq)) for v in turbo_freq]\n",
    "fig = plt.figure(figsize=(18,2))\n",
    "plt.plot(turbo_norm)"
   ]
  },
  {
   "cell_type": "code",
   "execution_count": 39,
   "metadata": {
    "collapsed": false
   },
   "outputs": [],
   "source": [
    "x = chat.loc[chat['emote_count'] == 0, ['emote_count', 'secondstamp', 'timestamp']]['secondstamp'].value_counts().sort_index().tolist()\n",
    "y = chat.loc[chat['emote_count'] == 1, ['emote_count', 'secondstamp', 'timestamp']]['secondstamp'].value_counts().sort_index().tolist()"
   ]
  },
  {
   "cell_type": "code",
   "execution_count": 42,
   "metadata": {
    "collapsed": false
   },
   "outputs": [
    {
     "data": {
      "text/plain": [
       "<matplotlib.text.Text at 0x11f5ce4a8>"
      ]
     },
     "execution_count": 42,
     "metadata": {},
     "output_type": "execute_result"
    },
    {
     "data": {
      "image/png": "[encoded data removed]",
      "text/plain": [
       "<matplotlib.figure.Figure at 0x11c0b4588>"
      ]
     },
     "metadata": {},
     "output_type": "display_data"
    }
   ],
   "source": [
    "plt.scatter(x, y)\n",
    "plt.xlabel('0 Emotes')\n",
    "plt.ylabel('1 Emote')"
   ]
  },
  {
   "cell_type": "code",
   "execution_count": 37,
   "metadata": {
    "collapsed": false
   },
   "outputs": [
    {
     "data": {
      "text/html": [
       "<div>\n",
       "<table border=\"1\" class=\"dataframe\">\n",
       "  <thead>\n",
       "    <tr style=\"text-align: right;\">\n",
       "      <th></th>\n",
       "      <th>emote_count</th>\n",
       "      <th>secondstamp</th>\n",
       "      <th>timestamp</th>\n",
       "    </tr>\n",
       "  </thead>\n",
       "  <tbody>\n",
       "    <tr>\n",
       "      <th>1</th>\n",
       "      <td>0</td>\n",
       "      <td>0</td>\n",
       "      <td>240</td>\n",
       "    </tr>\n",
       "    <tr>\n",
       "      <th>3</th>\n",
       "      <td>0</td>\n",
       "      <td>0</td>\n",
       "      <td>853</td>\n",
       "    </tr>\n",
       "    <tr>\n",
       "      <th>5</th>\n",
       "      <td>0</td>\n",
       "      <td>0</td>\n",
       "      <td>1404</td>\n",
       "    </tr>\n",
       "    <tr>\n",
       "      <th>7</th>\n",
       "      <td>0</td>\n",
       "      <td>0</td>\n",
       "      <td>2318</td>\n",
       "    </tr>\n",
       "    <tr>\n",
       "      <th>9</th>\n",
       "      <td>0</td>\n",
       "      <td>0</td>\n",
       "      <td>2565</td>\n",
       "    </tr>\n",
       "  </tbody>\n",
       "</table>\n",
       "</div>"
      ],
      "text/plain": [
       "   emote_count  secondstamp  timestamp\n",
       "1            0            0        240\n",
       "3            0            0        853\n",
       "5            0            0       1404\n",
       "7            0            0       2318\n",
       "9            0            0       2565"
      ]
     },
     "execution_count": 37,
     "metadata": {},
     "output_type": "execute_result"
    }
   ],
   "source": [
    "no_emotes.head()"
   ]
  },
  {
   "cell_type": "code",
   "execution_count": 60,
   "metadata": {
    "collapsed": false
   },
   "outputs": [
    {
     "data": {
      "text/plain": [
       "545"
      ]
     },
     "execution_count": 60,
     "metadata": {},
     "output_type": "execute_result"
    }
   ],
   "source": [
    "# With emotes\n",
    "chat['frequency'].value_counts().sum()"
   ]
  },
  {
   "cell_type": "code",
   "execution_count": 34,
   "metadata": {
    "collapsed": false
   },
   "outputs": [
    {
     "data": {
      "text/plain": [
       "545"
      ]
     },
     "execution_count": 34,
     "metadata": {},
     "output_type": "execute_result"
    }
   ],
   "source": [
    "# Without emotes\n",
    "chat['frequency'].value_counts().sum()"
   ]
  },
  {
   "cell_type": "code",
   "execution_count": 83,
   "metadata": {
    "collapsed": false
   },
   "outputs": [],
   "source": [
    "status = pd.read_csv('/Users/Rich/Desktop/save.csv')"
   ]
  },
  {
   "cell_type": "code",
   "execution_count": 108,
   "metadata": {
    "collapsed": false
   },
   "outputs": [
    {
     "data": {
      "text/html": [
       "<div>\n",
       "<table border=\"1\" class=\"dataframe\">\n",
       "  <thead>\n",
       "    <tr style=\"text-align: right;\">\n",
       "      <th></th>\n",
       "      <th>second</th>\n",
       "      <th>highlight</th>\n",
       "    </tr>\n",
       "  </thead>\n",
       "  <tbody>\n",
       "    <tr>\n",
       "      <th>0</th>\n",
       "      <td>0</td>\n",
       "      <td>0</td>\n",
       "    </tr>\n",
       "    <tr>\n",
       "      <th>1</th>\n",
       "      <td>60</td>\n",
       "      <td>0</td>\n",
       "    </tr>\n",
       "    <tr>\n",
       "      <th>2</th>\n",
       "      <td>120</td>\n",
       "      <td>0</td>\n",
       "    </tr>\n",
       "    <tr>\n",
       "      <th>3</th>\n",
       "      <td>180</td>\n",
       "      <td>0</td>\n",
       "    </tr>\n",
       "    <tr>\n",
       "      <th>4</th>\n",
       "      <td>240</td>\n",
       "      <td>0</td>\n",
       "    </tr>\n",
       "    <tr>\n",
       "      <th>5</th>\n",
       "      <td>300</td>\n",
       "      <td>0</td>\n",
       "    </tr>\n",
       "    <tr>\n",
       "      <th>6</th>\n",
       "      <td>360</td>\n",
       "      <td>0</td>\n",
       "    </tr>\n",
       "    <tr>\n",
       "      <th>7</th>\n",
       "      <td>420</td>\n",
       "      <td>0</td>\n",
       "    </tr>\n",
       "    <tr>\n",
       "      <th>8</th>\n",
       "      <td>480</td>\n",
       "      <td>0</td>\n",
       "    </tr>\n",
       "    <tr>\n",
       "      <th>9</th>\n",
       "      <td>540</td>\n",
       "      <td>0</td>\n",
       "    </tr>\n",
       "    <tr>\n",
       "      <th>10</th>\n",
       "      <td>600</td>\n",
       "      <td>0</td>\n",
       "    </tr>\n",
       "    <tr>\n",
       "      <th>11</th>\n",
       "      <td>660</td>\n",
       "      <td>0</td>\n",
       "    </tr>\n",
       "    <tr>\n",
       "      <th>12</th>\n",
       "      <td>720</td>\n",
       "      <td>0</td>\n",
       "    </tr>\n",
       "    <tr>\n",
       "      <th>13</th>\n",
       "      <td>780</td>\n",
       "      <td>0</td>\n",
       "    </tr>\n",
       "    <tr>\n",
       "      <th>14</th>\n",
       "      <td>840</td>\n",
       "      <td>0</td>\n",
       "    </tr>\n",
       "    <tr>\n",
       "      <th>15</th>\n",
       "      <td>900</td>\n",
       "      <td>0</td>\n",
       "    </tr>\n",
       "    <tr>\n",
       "      <th>16</th>\n",
       "      <td>960</td>\n",
       "      <td>0</td>\n",
       "    </tr>\n",
       "    <tr>\n",
       "      <th>17</th>\n",
       "      <td>1020</td>\n",
       "      <td>0</td>\n",
       "    </tr>\n",
       "    <tr>\n",
       "      <th>18</th>\n",
       "      <td>1080</td>\n",
       "      <td>0</td>\n",
       "    </tr>\n",
       "    <tr>\n",
       "      <th>19</th>\n",
       "      <td>1140</td>\n",
       "      <td>0</td>\n",
       "    </tr>\n",
       "    <tr>\n",
       "      <th>20</th>\n",
       "      <td>1200</td>\n",
       "      <td>0</td>\n",
       "    </tr>\n",
       "    <tr>\n",
       "      <th>21</th>\n",
       "      <td>1260</td>\n",
       "      <td>0</td>\n",
       "    </tr>\n",
       "    <tr>\n",
       "      <th>22</th>\n",
       "      <td>1320</td>\n",
       "      <td>0</td>\n",
       "    </tr>\n",
       "    <tr>\n",
       "      <th>23</th>\n",
       "      <td>1380</td>\n",
       "      <td>0</td>\n",
       "    </tr>\n",
       "    <tr>\n",
       "      <th>24</th>\n",
       "      <td>1440</td>\n",
       "      <td>0</td>\n",
       "    </tr>\n",
       "    <tr>\n",
       "      <th>25</th>\n",
       "      <td>1500</td>\n",
       "      <td>0</td>\n",
       "    </tr>\n",
       "    <tr>\n",
       "      <th>26</th>\n",
       "      <td>1560</td>\n",
       "      <td>0</td>\n",
       "    </tr>\n",
       "    <tr>\n",
       "      <th>27</th>\n",
       "      <td>1620</td>\n",
       "      <td>0</td>\n",
       "    </tr>\n",
       "    <tr>\n",
       "      <th>28</th>\n",
       "      <td>1680</td>\n",
       "      <td>0</td>\n",
       "    </tr>\n",
       "    <tr>\n",
       "      <th>29</th>\n",
       "      <td>1740</td>\n",
       "      <td>0</td>\n",
       "    </tr>\n",
       "    <tr>\n",
       "      <th>...</th>\n",
       "      <td>...</td>\n",
       "      <td>...</td>\n",
       "    </tr>\n",
       "    <tr>\n",
       "      <th>70</th>\n",
       "      <td>4200</td>\n",
       "      <td>0</td>\n",
       "    </tr>\n",
       "    <tr>\n",
       "      <th>71</th>\n",
       "      <td>4260</td>\n",
       "      <td>0</td>\n",
       "    </tr>\n",
       "    <tr>\n",
       "      <th>72</th>\n",
       "      <td>4320</td>\n",
       "      <td>0</td>\n",
       "    </tr>\n",
       "    <tr>\n",
       "      <th>73</th>\n",
       "      <td>4380</td>\n",
       "      <td>0</td>\n",
       "    </tr>\n",
       "    <tr>\n",
       "      <th>74</th>\n",
       "      <td>4440</td>\n",
       "      <td>0</td>\n",
       "    </tr>\n",
       "    <tr>\n",
       "      <th>75</th>\n",
       "      <td>4500</td>\n",
       "      <td>0</td>\n",
       "    </tr>\n",
       "    <tr>\n",
       "      <th>76</th>\n",
       "      <td>4560</td>\n",
       "      <td>0</td>\n",
       "    </tr>\n",
       "    <tr>\n",
       "      <th>77</th>\n",
       "      <td>4620</td>\n",
       "      <td>0</td>\n",
       "    </tr>\n",
       "    <tr>\n",
       "      <th>78</th>\n",
       "      <td>4680</td>\n",
       "      <td>0</td>\n",
       "    </tr>\n",
       "    <tr>\n",
       "      <th>79</th>\n",
       "      <td>4740</td>\n",
       "      <td>0</td>\n",
       "    </tr>\n",
       "    <tr>\n",
       "      <th>80</th>\n",
       "      <td>4800</td>\n",
       "      <td>0</td>\n",
       "    </tr>\n",
       "    <tr>\n",
       "      <th>81</th>\n",
       "      <td>4860</td>\n",
       "      <td>0</td>\n",
       "    </tr>\n",
       "    <tr>\n",
       "      <th>82</th>\n",
       "      <td>4920</td>\n",
       "      <td>0</td>\n",
       "    </tr>\n",
       "    <tr>\n",
       "      <th>83</th>\n",
       "      <td>4980</td>\n",
       "      <td>0</td>\n",
       "    </tr>\n",
       "    <tr>\n",
       "      <th>84</th>\n",
       "      <td>5040</td>\n",
       "      <td>0</td>\n",
       "    </tr>\n",
       "    <tr>\n",
       "      <th>85</th>\n",
       "      <td>5100</td>\n",
       "      <td>0</td>\n",
       "    </tr>\n",
       "    <tr>\n",
       "      <th>86</th>\n",
       "      <td>5160</td>\n",
       "      <td>0</td>\n",
       "    </tr>\n",
       "    <tr>\n",
       "      <th>87</th>\n",
       "      <td>5220</td>\n",
       "      <td>0</td>\n",
       "    </tr>\n",
       "    <tr>\n",
       "      <th>88</th>\n",
       "      <td>5280</td>\n",
       "      <td>0</td>\n",
       "    </tr>\n",
       "    <tr>\n",
       "      <th>89</th>\n",
       "      <td>5340</td>\n",
       "      <td>0</td>\n",
       "    </tr>\n",
       "    <tr>\n",
       "      <th>90</th>\n",
       "      <td>5400</td>\n",
       "      <td>0</td>\n",
       "    </tr>\n",
       "    <tr>\n",
       "      <th>91</th>\n",
       "      <td>5460</td>\n",
       "      <td>0</td>\n",
       "    </tr>\n",
       "    <tr>\n",
       "      <th>92</th>\n",
       "      <td>5520</td>\n",
       "      <td>0</td>\n",
       "    </tr>\n",
       "    <tr>\n",
       "      <th>93</th>\n",
       "      <td>5580</td>\n",
       "      <td>0</td>\n",
       "    </tr>\n",
       "    <tr>\n",
       "      <th>94</th>\n",
       "      <td>5640</td>\n",
       "      <td>0</td>\n",
       "    </tr>\n",
       "    <tr>\n",
       "      <th>95</th>\n",
       "      <td>5700</td>\n",
       "      <td>1</td>\n",
       "    </tr>\n",
       "    <tr>\n",
       "      <th>96</th>\n",
       "      <td>5760</td>\n",
       "      <td>0</td>\n",
       "    </tr>\n",
       "    <tr>\n",
       "      <th>97</th>\n",
       "      <td>5820</td>\n",
       "      <td>0</td>\n",
       "    </tr>\n",
       "    <tr>\n",
       "      <th>98</th>\n",
       "      <td>5880</td>\n",
       "      <td>0</td>\n",
       "    </tr>\n",
       "    <tr>\n",
       "      <th>99</th>\n",
       "      <td>5940</td>\n",
       "      <td>0</td>\n",
       "    </tr>\n",
       "  </tbody>\n",
       "</table>\n",
       "<p>100 rows × 2 columns</p>\n",
       "</div>"
      ],
      "text/plain": [
       "    second  highlight\n",
       "0        0          0\n",
       "1       60          0\n",
       "2      120          0\n",
       "3      180          0\n",
       "4      240          0\n",
       "5      300          0\n",
       "6      360          0\n",
       "7      420          0\n",
       "8      480          0\n",
       "9      540          0\n",
       "10     600          0\n",
       "11     660          0\n",
       "12     720          0\n",
       "13     780          0\n",
       "14     840          0\n",
       "15     900          0\n",
       "16     960          0\n",
       "17    1020          0\n",
       "18    1080          0\n",
       "19    1140          0\n",
       "20    1200          0\n",
       "21    1260          0\n",
       "22    1320          0\n",
       "23    1380          0\n",
       "24    1440          0\n",
       "25    1500          0\n",
       "26    1560          0\n",
       "27    1620          0\n",
       "28    1680          0\n",
       "29    1740          0\n",
       "..     ...        ...\n",
       "70    4200          0\n",
       "71    4260          0\n",
       "72    4320          0\n",
       "73    4380          0\n",
       "74    4440          0\n",
       "75    4500          0\n",
       "76    4560          0\n",
       "77    4620          0\n",
       "78    4680          0\n",
       "79    4740          0\n",
       "80    4800          0\n",
       "81    4860          0\n",
       "82    4920          0\n",
       "83    4980          0\n",
       "84    5040          0\n",
       "85    5100          0\n",
       "86    5160          0\n",
       "87    5220          0\n",
       "88    5280          0\n",
       "89    5340          0\n",
       "90    5400          0\n",
       "91    5460          0\n",
       "92    5520          0\n",
       "93    5580          0\n",
       "94    5640          0\n",
       "95    5700          1\n",
       "96    5760          0\n",
       "97    5820          0\n",
       "98    5880          0\n",
       "99    5940          0\n",
       "\n",
       "[100 rows x 2 columns]"
      ]
     },
     "execution_count": 108,
     "metadata": {},
     "output_type": "execute_result"
    }
   ],
   "source": [
    "games = status['game'].value_counts().index.tolist()[1:]\n",
    "highlights = pd.DataFrame()\n",
    "highlights['second'] = status['second']\n",
    "highlights['highlight'] = [0] * len(highlights.index)\n",
    "for game in games:\n",
    "    seconds = status[status['game'] == game]['second']\n",
    "    start = seconds.min()\n",
    "    stop = seconds.max()\n",
    "\n",
    "    chat_segment = chat[(chat['secondstamp'] >= start) & (chat['secondstamp'] <= stop)]\n",
    "    game_highs = chat_segment['secondstamp'].value_counts().sort_values(ascending=False).index[0:3].tolist()\n",
    "    for i in game_highs:\n",
    "        highlights.loc[highlights['second'] == i, 'highlight'] = 1\n",
    "# highlights.head(100)"
   ]
  },
  {
   "cell_type": "code",
   "execution_count": 85,
   "metadata": {
    "collapsed": false
   },
   "outputs": [
    {
     "data": {
      "text/plain": [
       "226713"
      ]
     },
     "execution_count": 85,
     "metadata": {},
     "output_type": "execute_result"
    }
   ],
   "source": [
    "chat.index.max()"
   ]
  },
  {
   "cell_type": "code",
   "execution_count": null,
   "metadata": {
    "collapsed": true
   },
   "outputs": [],
   "source": []
  }
 ],
 "metadata": {
  "anaconda-cloud": {},
  "kernelspec": {
   "display_name": "Python [twitch3]",
   "language": "python",
   "name": "Python [twitch3]"
  },
  "language_info": {
   "codemirror_mode": {
    "name": "ipython",
    "version": 3
   },
   "file_extension": ".py",
   "mimetype": "text/x-python",
   "name": "python",
   "nbconvert_exporter": "python",
   "pygments_lexer": "ipython3",
   "version": "3.5.2"
  }
 },
 "nbformat": 4,
 "nbformat_minor": 0
}
