{
 "cells": [
  {
   "cell_type": "code",
   "execution_count": 16,
   "metadata": {
    "collapsed": true
   },
   "outputs": [],
   "source": [
    "import csv\n",
    "import json\n",
    "import os\n",
    "import re\n",
    "import sys\n",
    "\n",
    "from PIL import Image, ImageFilter\n",
    "import imageio\n",
    "import numpy as np\n",
    "import pandas as pd\n",
    "import statsmodels.api as sm\n",
    "import matplotlib.pyplot as plt\n",
    "%matplotlib inline\n",
    "from sklearn.linear_model import LogisticRegression\n",
    "from scipy import ndimage as ndi\n",
    "from skimage import feature\n",
    "from scipy.fftpack import rfft, irfft, fftfreq, rfftfreq\n",
    "from scipy import interpolate\n",
    "\n",
    "def file_tree(start):\n",
    "    \"\"\"Generate file list in directory\"\"\"\n",
    "    file_list = []\n",
    "    for root, dirs, files in os.walk(start):\n",
    "        for f in files:\n",
    "            if f[0] != '.':\n",
    "                file_list.append(f)\n",
    "    return file_list\n",
    "\n",
    "\n",
    "def process_data(data):\n",
    "    \"\"\"Process JSON data\"\"\"\n",
    "    attr = data['attributes']\n",
    "\n",
    "    timestamp = attr['timestamp']\n",
    "    message = attr['message']\n",
    "    author = attr['from']\n",
    "    turbo = attr['tags']['turbo']\n",
    "    sub = attr['tags']['subscriber']\n",
    "\n",
    "    try:\n",
    "        emotes = attr['tags']['emotes']\n",
    "        emote_count = sum([len(emotes[key]) for key in emotes.keys()])\n",
    "    except:\n",
    "        emote_count = 0\n",
    "    \n",
    "    row = {\n",
    "        'timestamp': timestamp,\n",
    "        'author': author,\n",
    "        'message': message,\n",
    "        'turbo': turbo,\n",
    "        'sub': sub,\n",
    "        'emote_count': emote_count\n",
    "    }\n",
    "\n",
    "    return row\n",
    "\n",
    "\n",
    "def high_pass_filter(freq, amp, min_freq):\n",
    "    df = pd.DataFrame(amp, index=freq, columns=['Amplitude'])\n",
    "    df = df.copy()\n",
    "    df[df.index < min_freq] = 0\n",
    "    return df\n",
    "\n",
    "def low_pass_filter(freq, amp, max_freq):\n",
    "    df = pd.DataFrame(amp, index=freq, columns=['Amplitude'])\n",
    "    df = df.copy()\n",
    "    df[df.index > max_freq] = 0\n",
    "    return df\n",
    "\n",
    "def round_to_val(x, val=30):\n",
    "    return int(np.round(x/val) * val)"
   ]
  },
  {
   "cell_type": "code",
   "execution_count": 17,
   "metadata": {
    "collapsed": false
   },
   "outputs": [],
   "source": [
    "# Get file list\n",
    "start = '/Volumes/Passport/LiveBeat/chat/v82878048'\n",
    "file_list = file_tree(start)\n",
    "df = []\n",
    "\n",
    "# Aggregate files into dictionary\n",
    "for file in file_list:\n",
    "    get_path = os.path.join(start, file)\n",
    "    with open(get_path) as f:\n",
    "        # Format line and separate multiple JSON strings with commas\n",
    "        line = '[{}]'.format(f.readline()).replace('}}{', '}},{')\n",
    "        data = json.loads(line)[0]\n",
    "\n",
    "        for message in data['data']:\n",
    "            df.append(process_data(message))\n",
    "\n",
    "# Create data frame from chat data and convert ms to s\n",
    "df = pd.DataFrame(df)\n",
    "minimum = df['timestamp'].min()\n",
    "maximum = df['timestamp'].max()\n",
    "df['timestamp'] = df['timestamp'].apply(lambda x: x - minimum)\n",
    "df['secondstamp'] = df['timestamp'].apply(lambda x: int(round(x/1000)))\n",
    "\n",
    "# Create chat frequency data frame where index is no. of seconds into video\n",
    "chat_freq = df['secondstamp'].value_counts().sort_index()\n",
    "chat_freq = pd.DataFrame(chat_freq)\n",
    "chat_freq.columns = ['frequency']\n",
    "cf_copy = chat_freq.copy()"
   ]
  },
  {
   "cell_type": "code",
   "execution_count": 18,
   "metadata": {
    "collapsed": false
   },
   "outputs": [],
   "source": [
    "# Set filename\n",
    "filename = '/Volumes/Passport/LiveBeat/video/dota2ti_v82878048_720p30.mp4'\n",
    "\n",
    "# Get video id\n",
    "video_id = re.findall('v\\d+', filename)[0]\n",
    "\n",
    "# Open file handle\n",
    "vid = imageio.get_reader(filename, 'ffmpeg')\n",
    "\n",
    "# Get metadata\n",
    "meta = vid.get_meta_data()\n",
    "fps = int(meta['fps'])\n",
    "nframes = meta['nframes']\n",
    "frames = np.arange(0, int(nframes), 1)\n",
    "\n",
    "# Close video\n",
    "vid.close()\n",
    "\n",
    "# Convert frames to seconds and initialize data frame\n",
    "values = [0] * int(len(frames)/fps)\n",
    "df = pd.DataFrame(values).reset_index()\n",
    "df.columns = ['second', 'game']\n",
    "smear_df = df.copy()\n",
    "\n",
    "# Import timecode data\n",
    "timecodes = pd.read_csv('./timecodes/timecodes_v82878048.csv', names=['start', 'stop'])\n",
    "timecodes = timecodes.astype(int)\n",
    "\n",
    "# Smear timecodes to remove anything < 30 seconds long\n",
    "smear_tc = timecodes[timecodes['stop'] - timecodes['start'] >= 30000].reset_index(drop=True)\n",
    "\n",
    "# Run through smeared timecodes and flip switches on correct seconds of video\n",
    "for i in smear_tc.index:\n",
    "    row = smear_tc.iloc[i][['start', 'stop']]\n",
    "    start = row[0]/fps\n",
    "    stop = row[1]/fps\n",
    "    df.loc[(df.index >= start) & (df.index < stop), 'game'] = 1"
   ]
  },
  {
   "cell_type": "code",
   "execution_count": 19,
   "metadata": {
    "collapsed": false
   },
   "outputs": [
    {
     "data": {
      "text/plain": [
       "[<matplotlib.lines.Line2D at 0x12718a9b0>]"
      ]
     },
     "execution_count": 19,
     "metadata": {},
     "output_type": "execute_result"
    },
    {
     "data": {
      "image/png": "[encoded data removed]",
      "text/plain": [
       "<matplotlib.figure.Figure at 0x120fa9e80>"
      ]
     },
     "metadata": {},
     "output_type": "display_data"
    }
   ],
   "source": [
    "fig, ax1 = plt.subplots(figsize=(18,2))\n",
    "ax2 = ax1.twinx()\n",
    "ax1.plot(df.index, df['game'], '.b')\n",
    "ax2.plot(chat_freq.index, chat_freq['frequency'], '-r')"
   ]
  },
  {
   "cell_type": "code",
   "execution_count": 23,
   "metadata": {
    "collapsed": false
   },
   "outputs": [
    {
     "data": {
      "text/plain": [
       "[<matplotlib.lines.Line2D at 0x11d1241d0>]"
      ]
     },
     "execution_count": 23,
     "metadata": {},
     "output_type": "execute_result"
    },
    {
     "data": {
      "image/png": "[encoded data removed]",
      "text/plain": [
       "<matplotlib.figure.Figure at 0x1207645c0>"
      ]
     },
     "metadata": {},
     "output_type": "display_data"
    }
   ],
   "source": [
    "df_copy = df[0:len(cf_copy)]\n",
    "cf_copy['game'] = df_copy['game']\n",
    "cf_copy.loc[cf_copy['game'] != 1] = 0\n",
    "\n",
    "fig, ax1 = plt.subplots(figsize=(18,2))\n",
    "ax2 = ax1.twinx()\n",
    "ax1.plot(df.index, df['game'], '.b')\n",
    "ax2.plot(cf_copy.index, cf_copy['frequency'], '-r')"
   ]
  },
  {
   "cell_type": "code",
   "execution_count": null,
   "metadata": {
    "collapsed": true
   },
   "outputs": [],
   "source": []
  }
 ],
 "metadata": {
  "anaconda-cloud": {},
  "kernelspec": {
   "display_name": "Python [twitch3]",
   "language": "python",
   "name": "Python [twitch3]"
  },
  "language_info": {
   "codemirror_mode": {
    "name": "ipython",
    "version": 3
   },
   "file_extension": ".py",
   "mimetype": "text/x-python",
   "name": "python",
   "nbconvert_exporter": "python",
   "pygments_lexer": "ipython3",
   "version": "3.5.2"
  }
 },
 "nbformat": 4,
 "nbformat_minor": 0
}
