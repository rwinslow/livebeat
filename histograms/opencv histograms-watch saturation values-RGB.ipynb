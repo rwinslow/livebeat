{
 "cells": [
  {
   "cell_type": "code",
   "execution_count": 4,
   "metadata": {
    "collapsed": true
   },
   "outputs": [],
   "source": [
    "import cv2\n",
    "import numpy as np\n",
    "from PIL import Image, ImageFilter\n",
    "import imageio\n",
    "from skimage import color\n",
    "from matplotlib import pyplot as plt\n",
    "%matplotlib inline"
   ]
  },
  {
   "cell_type": "code",
   "execution_count": 106,
   "metadata": {
    "collapsed": true
   },
   "outputs": [],
   "source": [
    "def split_img(img):\n",
    "    print(img.shape)\n",
    "    h, w, c = img.shape\n",
    "    green_half = img[:,0:int(w/2),:]\n",
    "    red_half = img[:,int(w/2):w,:]\n",
    "\n",
    "    img = img[0:1,:,:]\n",
    "    green_half_px = green_half[0:1,:,:]\n",
    "    red_half_px = red_half[0:1,:,:]\n",
    "    \n",
    "    return (\n",
    "        green_half, red_half, green_half_px, red_half_px\n",
    "    )\n",
    "\n",
    "def hsv_hist(img):\n",
    "    green_half, red_half, green_half_px, red_half_px = split_img(img)\n",
    "    green_half = color.rgb2hsv(green_half)\n",
    "    red_half = color.rgb2hsv(red_half)\n",
    "    green_half_px = color.rgb2hsv(green_half_px)\n",
    "    red_half_px = color.rgb2hsv(red_half_px)\n",
    "    print('green half', sum(sum(sum(green_half_px))))\n",
    "    print('red half', sum(sum(sum(red_half_px))))\n",
    "\n",
    "    plt.imshow(img)\n",
    "    \n",
    "#     hist = Image.fromarray(img).histogram()\n",
    "#     plt.figure(figsize=(18,2))\n",
    "#     plt.title('Full image')\n",
    "#     plt.plot(hist)\n",
    "    \n",
    "#     hist = Image.fromarray(green_half_px).histogram()\n",
    "#     plt.figure(figsize=(18,2))\n",
    "#     plt.title('Green px image')\n",
    "#     plt.plot(hist)\n",
    "    \n",
    "#     hist = Image.fromarray(red_half_px).histogram()\n",
    "#     plt.figure(figsize=(18,2))\n",
    "#     plt.title('Red px image')\n",
    "#     plt.plot(hist)    \n",
    "\n",
    "def gray_hist(img):\n",
    "    green_half, red_half, green_half_px, red_half_px = split_img(img)\n",
    "    green_half = color.rgb2gray(green_half)\n",
    "    red_half = color.rgb2gray(red_half)\n",
    "    green_half_px = color.rgb2gray(green_half_px)\n",
    "    red_half_px = color.rgb2gray(red_half_px)\n",
    "    print(red_half_px)\n",
    "\n",
    "    plt.imshow(img)\n",
    "    \n",
    "#     hist = Image.fromarray(img).histogram()\n",
    "#     plt.figure(figsize=(18,2))\n",
    "#     plt.title('Full image')\n",
    "#     plt.plot(hist)\n",
    "    \n",
    "#     hist = Image.fromarray(green_half_px).histogram()\n",
    "#     plt.figure(figsize=(18,2))\n",
    "#     plt.title('Green px image')\n",
    "#     plt.plot(hist)\n",
    "    \n",
    "#     hist = Image.fromarray(red_half_px).histogram()\n",
    "#     plt.figure(figsize=(18,2))\n",
    "#     plt.title('Red px image')\n",
    "#     plt.plot(hist)    \n",
    "\n",
    "    "
   ]
  },
  {
   "cell_type": "code",
   "execution_count": 107,
   "metadata": {
    "collapsed": false
   },
   "outputs": [
    {
     "name": "stdout",
     "output_type": "stream",
     "text": [
      "(100, 581, 3)\n",
      "[[ 0.          0.          0.          0.          0.          0.          0.\n",
      "   0.          0.          0.          0.          0.          0.          0.\n",
      "   0.          0.          0.          0.          0.          0.          0.\n",
      "   0.          0.          0.          0.          0.          0.          0.\n",
      "   0.          0.          0.          0.          0.          0.          0.\n",
      "   0.          0.          0.          0.          0.          0.          0.\n",
      "   0.          0.          0.          0.          0.          0.          0.\n",
      "   0.          0.          0.          0.          0.          0.          0.\n",
      "   0.          0.          0.          0.          0.          0.          0.\n",
      "   0.          0.          0.          0.          0.          0.          0.\n",
      "   0.20102157  0.41278627  0.43557412  0.41204471  0.33720745  0.28230549\n",
      "   0.28245686  0.26284902  0.25282627  0.23714     0.24276588  0.24276588\n",
      "   0.24417961  0.24417961  0.24417961  0.24417961  0.24531843  0.24531843\n",
      "   0.24478275  0.23693961  0.23330863  0.23330863  0.22041294  0.23217765\n",
      "   0.23666471  0.24450784  0.24450784  0.24450784  0.24786392  0.24786392\n",
      "   0.24786392  0.24786392  0.24786392  0.24786392  0.24786392  0.24361412\n",
      "   0.24361412  0.24330863  0.23938706  0.23573255  0.23181098  0.2242349\n",
      "   0.23207804  0.15225922  0.28447843  0.37666039  0.39626824  0.37716549\n",
      "   0.33010667  0.27392667  0.22294627  0.24187216  0.23795059  0.23178118\n",
      "   0.22001647  0.22229412  0.22229412  0.22483176  0.2326749   0.24443961\n",
      "   0.25228275  0.25342157  0.25342157  0.23773529  0.19067647  0.14838745\n",
      "   0.16322549  0.19851961  0.20244118  0.20636275  0.21028431  0.21028431\n",
      "   0.21028431  0.21028431  0.21028431  0.21028431  0.21028431  0.21028431\n",
      "   0.21028431  0.21028431  0.21028431  0.20858     0.20858     0.20914549\n",
      "   0.20914549  0.20493333  0.20493333  0.16077922  0.18430863  0.32826314\n",
      "   0.43414549  0.4047949   0.35773608  0.31525451  0.28388196  0.24709373\n",
      "   0.23532902  0.22732314  0.22340157  0.23070275  0.23070275  0.23381373\n",
      "   0.23381373  0.23381373  0.23381373  0.23381373  0.23381373  0.23235451\n",
      "   0.23235451  0.21907373  0.18770118  0.19532902  0.23846627  0.22995961\n",
      "   0.2064302   0.20046824  0.20046824  0.19990275  0.19990275  0.20101176\n",
      "   0.24786392  0.24786392  0.24786392  0.24361412  0.24361412  0.24330863\n",
      "   0.23938706  0.23573255  0.23181098  0.2242349   0.23207804  0.15225922\n",
      "   0.17052353  0.26857137  0.42151255  0.40129176  0.35815451  0.3178298\n",
      "   0.29430039  0.28267137  0.25522039  0.22782902  0.20822118  0.20037804\n",
      "   0.20429961  0.20627176  0.20627176  0.20657725  0.20657725  0.20771608\n",
      "   0.20771608  0.18083059  0.23573255  0.21780627  0.15506118  0.21137412\n",
      "   0.22706039  0.2119651   0.2237298   0.22483882  0.22483882  0.22058196\n",
      "   0.22058196  0.21957176  0.23525804  0.24786392  0.24786392  0.24786392\n",
      "   0.24361412  0.24361412  0.24330863  0.23938706  0.23573255  0.23181098\n",
      "   0.2242349   0.23207804  0.15225922  0.20102157  0.41278627  0.43557412\n",
      "   0.41204471  0.33720745  0.28230549  0.28245686  0.26284902  0.25282627\n",
      "   0.23714     0.24276588  0.24276588  0.24417961  0.24417961  0.24417961\n",
      "   0.24417961  0.24531843  0.24531843  0.24478275  0.23693961  0.23330863\n",
      "   0.23330863  0.22041294  0.23217765  0.23666471  0.24450784  0.24450784\n",
      "   0.24450784  0.24786392  0.24786392  0.24786392  0.24786392  0.24786392\n",
      "   0.24786392  0.24786392  0.24361412  0.24361412  0.24330863  0.23938706\n",
      "   0.23573255  0.23181098  0.2242349   0.23207804  0.15225922]]\n"
     ]
    },
    {
     "data": {
      "image/png": "[encoded data removed]",
      "text/plain": [
       "<matplotlib.figure.Figure at 0x11511bd68>"
      ]
     },
     "metadata": {},
     "output_type": "display_data"
    }
   ],
   "source": [
    "gray_hist(imageio.imread('full.png'))"
   ]
  },
  {
   "cell_type": "code",
   "execution_count": 108,
   "metadata": {
    "collapsed": false
   },
   "outputs": [
    {
     "name": "stdout",
     "output_type": "stream",
     "text": [
      "(100, 581, 3)\n",
      "[[ 0.          0.          0.          0.          0.          0.          0.\n",
      "   0.          0.          0.          0.          0.          0.          0.\n",
      "   0.          0.          0.          0.          0.          0.          0.\n",
      "   0.          0.          0.          0.          0.          0.          0.\n",
      "   0.          0.          0.          0.          0.          0.          0.\n",
      "   0.          0.          0.          0.          0.          0.          0.\n",
      "   0.          0.          0.          0.          0.          0.          0.\n",
      "   0.          0.          0.          0.          0.          0.          0.\n",
      "   0.          0.          0.          0.          0.          0.          0.\n",
      "   0.          0.          0.          0.          0.          0.\n",
      "   0.38260588  0.38142588  0.38142588  0.36069843  0.31363961  0.27499804\n",
      "   0.23466627  0.23652196  0.23652196  0.23184235  0.22091098  0.21638627\n",
      "   0.2200251   0.22392392  0.22392392  0.22195176  0.2297949   0.2275549\n",
      "   0.2275549   0.23089529  0.24574824  0.22108     0.19362902  0.22108\n",
      "   0.22500157  0.22111765  0.21719608  0.21916824  0.21524667  0.21501647\n",
      "   0.21081216  0.20804431  0.19711294  0.19765647  0.20438353  0.1970149\n",
      "   0.20093647  0.20883294  0.21303725  0.21478706  0.22543569  0.19818\n",
      "   0.27969961  0.3624949   0.45970078  0.40627294  0.27769451  0.09561373\n",
      "   0.0367902   0.06809529  0.07593843  0.07929451  0.09890235  0.10056196\n",
      "   0.10056196  0.09658     0.10834471  0.10603725  0.1374098   0.18271176\n",
      "   0.24434078  0.25521176  0.24064157  0.48377882  0.68377882  0.46890314\n",
      "   0.49635412  0.66248157  0.37620706  0.23029843  0.2535451   0.14857922\n",
      "   0.11692392  0.10435569  0.10435569  0.09911765  0.09911765  0.09273373\n",
      "   0.08405725  0.06974784  0.08039647  0.08966118  0.09358275  0.09499647\n",
      "   0.04401608  0.06197216  0.17094275  0.26086314  0.34713765  0.35356627\n",
      "   0.27121333  0.1636651   0.11743961  0.11420235  0.27470392  0.27491843\n",
      "   0.12982039  0.11483294  0.11091137  0.11170078  0.11645569  0.11359765\n",
      "   0.11863529  0.17198784  0.26218392  0.49327373  0.65769686  0.45966902\n",
      "   0.40084549  0.27956745  0.35127176  0.67592863  0.49917529  0.60142588\n",
      "   0.57789647  0.20619569  0.15521529  0.10050157  0.09658     0.09696078\n",
      "   0.10563725  0.10973647  0.12934431  0.20831137  0.2043898   0.13212\n",
      "   0.10466902  0.09241333  0.04143294  0.03672275  0.14569333  0.19772941\n",
      "   0.31228824  0.27842431  0.38822824  0.33818078  0.29140471  0.26211725\n",
      "   0.23466627  0.23895373  0.23895373  0.22693608  0.21628745  0.21208314\n",
      "   0.21208314  0.21127255  0.21883294  0.21826745  0.21826745  0.22640118\n",
      "   0.23032275  0.22640118  0.22164627  0.21861059  0.21385569  0.20941333\n",
      "   0.2133349   0.21169098  0.20776941  0.18594431  0.18594431  0.18957529\n",
      "   0.18957529  0.19067647  0.19459804  0.1940098   0.19793137  0.19654745\n",
      "   0.19654745  0.19851961  0.19851961  0.21784745  0.10412196  0.01        0.0075\n",
      "   0.10568118  0.31661255  0.31749765  0.3343      0.09112667  0.10289137\n",
      "   0.09528627  0.10004118  0.11179882  0.11179882  0.10333765  0.10333765\n",
      "   0.10327725  0.11587529  0.12871843  0.16401255  0.19862824  0.32523451\n",
      "   0.45769686  0.42632431  0.68124902  0.7039451   0.30701843  0.40617373\n",
      "   0.67673922  0.53556275  0.61040784  0.48995529  0.16507608  0.12697647\n",
      "   0.11026431  0.10634275  0.10444588  0.10444588  0.09499647  0.09499647\n",
      "   0.08434784  0.08042627  0.08771882  0.09164039  0.08828431  0.0529902\n",
      "   0.04855569  0.14267333  0.20684     0.14773373  0.14579922]]\n"
     ]
    },
    {
     "data": {
      "image/png": "[encoded data removed]",
      "text/plain": [
       "<matplotlib.figure.Figure at 0x1148410b8>"
      ]
     },
     "metadata": {},
     "output_type": "display_data"
    }
   ],
   "source": [
    "gray_hist(imageio.imread('some_dead.png'))"
   ]
  },
  {
   "cell_type": "code",
   "execution_count": 109,
   "metadata": {
    "collapsed": false
   },
   "outputs": [
    {
     "name": "stdout",
     "output_type": "stream",
     "text": [
      "(100, 580, 3)\n",
      "[[ 0.          0.          0.          0.          0.          0.          0.\n",
      "   0.          0.          0.          0.          0.          0.          0.\n",
      "   0.          0.          0.          0.          0.          0.          0.\n",
      "   0.          0.          0.          0.          0.          0.          0.\n",
      "   0.          0.          0.          0.          0.          0.          0.\n",
      "   0.          0.          0.          0.          0.          0.          0.\n",
      "   0.          0.          0.          0.          0.          0.          0.\n",
      "   0.          0.          0.          0.          0.          0.          0.\n",
      "   0.          0.          0.          0.          0.          0.          0.\n",
      "   0.          0.          0.          0.          0.40875804  0.40013412\n",
      "   0.31778118  0.12502902  0.07404863  0.08070824  0.08070824  0.07929451\n",
      "   0.09890235  0.0985898   0.0985898   0.10132     0.11027922  0.11944588\n",
      "   0.15557333  0.19472157  0.2535451   0.26414824  0.24929529  0.57227059\n",
      "   0.54874118  0.27673137  0.26385059  0.71344706  0.50924275  0.25827725\n",
      "   0.24259098  0.1591902   0.11997451  0.11135059  0.10714627  0.10106706\n",
      "   0.09714549  0.09273373  0.08405725  0.06974784  0.06974784  0.07005333\n",
      "   0.08573961  0.06418941  0.02861255  0.0600149   0.16506392  0.2507949\n",
      "   0.3499502   0.40875804  0.40013412  0.31778118  0.12502902  0.07404863\n",
      "   0.08070824  0.08070824  0.07929451  0.09890235  0.0985898   0.0985898\n",
      "   0.10132     0.11027922  0.11944588  0.15557333  0.19472157  0.2535451\n",
      "   0.26414824  0.24929529  0.57227059  0.54874118  0.27673137  0.26385059\n",
      "   0.71344706  0.50924275  0.25827725  0.24259098  0.1591902   0.11997451\n",
      "   0.11135059  0.10714627  0.10106706  0.09714549  0.09273373  0.08405725\n",
      "   0.06974784  0.06974784  0.07005333  0.08573961  0.06418941  0.02861255\n",
      "   0.0600149   0.16506392  0.2507949   0.3499502   0.35274     0.27038706\n",
      "   0.17039922  0.09672275  0.11420235  0.33773176  0.34718118  0.12757333\n",
      "   0.11034588  0.11034588  0.12318275  0.13102588  0.11863529  0.11863529\n",
      "   0.24143725  0.27673137  0.56357922  0.49802863  0.26359059  0.27143373\n",
      "   0.30701843  0.53446941  0.62970314  0.26107569  0.39667098  0.69442745\n",
      "   0.24092431  0.15857137  0.12679882  0.08869922  0.09803922  0.09803922\n",
      "   0.09797176  0.09797176  0.26068353  0.25676196  0.13519333  0.09989922\n",
      "   0.07307333  0.02601451  0.03196784  0.13476196  0.21736     0.40875804\n",
      "   0.40013412  0.31778118  0.12502902  0.07404863  0.08070824  0.08070824\n",
      "   0.07929451  0.09890235  0.0985898   0.0985898   0.10132     0.11027922\n",
      "   0.11944588  0.15557333  0.19472157  0.2535451   0.26414824  0.24929529\n",
      "   0.57227059  0.54874118  0.27673137  0.26385059  0.71344706  0.50924275\n",
      "   0.25827725  0.24259098  0.1591902   0.11997451  0.11135059  0.10714627\n",
      "   0.10106706  0.09714549  0.09273373  0.08405725  0.06974784  0.06974784\n",
      "   0.07005333  0.08573961  0.06418941  0.02861255  0.0600149   0.16506392\n",
      "   0.2507949   0.3499502   0.31218431  0.31218431  0.08945216  0.08945216\n",
      "   0.10117216  0.10117216  0.11458157  0.11458157  0.10975922  0.10583765\n",
      "   0.1013051   0.10606     0.14942745  0.16399765  0.21596627  0.26694667\n",
      "   0.24451059  0.25936353  0.43362471  0.78573255  0.35799882  0.51597765\n",
      "   0.61988784  0.26694667  0.32691608  0.67089804  0.23369216  0.13845843\n",
      "   0.10967608  0.10575451  0.10442314  0.10442314  0.10056196  0.08851451\n",
      "   0.08434784  0.08434784  0.08436275  0.09220588  0.0888498   0.04599529\n",
      "   0.04660627  0.14381216  0.21946078  0.14970588  0.15644784]]\n"
     ]
    },
    {
     "data": {
      "image/png": "[encoded data removed]",
      "text/plain": [
       "<matplotlib.figure.Figure at 0x114cb3048>"
      ]
     },
     "metadata": {},
     "output_type": "display_data"
    }
   ],
   "source": [
    "gray_hist(imageio.imread('dead-red.png'))"
   ]
  },
  {
   "cell_type": "code",
   "execution_count": 103,
   "metadata": {
    "collapsed": false
   },
   "outputs": [
    {
     "name": "stdout",
     "output_type": "stream",
     "text": [
      "(100, 581, 3)\n",
      "green half 209.453822549\n",
      "red half 311.843857027\n"
     ]
    },
    {
     "data": {
      "image/png": "[encoded data removed]",
      "text/plain": [
       "<matplotlib.figure.Figure at 0x11503fac8>"
      ]
     },
     "metadata": {},
     "output_type": "display_data"
    }
   ],
   "source": [
    "hsv_hist(imageio.imread('dead-green.png'))"
   ]
  },
  {
   "cell_type": "code",
   "execution_count": 105,
   "metadata": {
    "collapsed": false
   },
   "outputs": [
    {
     "name": "stdout",
     "output_type": "stream",
     "text": [
      "(100, 580, 3)\n",
      "green half 209.453822549\n",
      "red half 209.453822549\n"
     ]
    },
    {
     "data": {
      "image/png": "[encoded data removed]",
      "text/plain": [
       "<matplotlib.figure.Figure at 0x114e70da0>"
      ]
     },
     "metadata": {},
     "output_type": "display_data"
    }
   ],
   "source": [
    "hsv_hist(imageio.imread('dead-all.png'))"
   ]
  },
  {
   "cell_type": "code",
   "execution_count": 1,
   "metadata": {
    "collapsed": false
   },
   "outputs": [
    {
     "ename": "NameError",
     "evalue": "name 'hist' is not defined",
     "output_type": "error",
     "traceback": [
      "\u001b[0;31m---------------------------------------------------------------------------\u001b[0m",
      "\u001b[0;31mNameError\u001b[0m                                 Traceback (most recent call last)",
      "\u001b[0;32m<ipython-input-1-7909d173208b>\u001b[0m in \u001b[0;36m<module>\u001b[0;34m()\u001b[0m\n\u001b[0;32m----> 1\u001b[0;31m \u001b[0mprint\u001b[0m\u001b[0;34m(\u001b[0m\u001b[0msum\u001b[0m\u001b[0;34m(\u001b[0m\u001b[0mhist\u001b[0m\u001b[0;34m[\u001b[0m\u001b[0;36m0\u001b[0m\u001b[0;34m:\u001b[0m\u001b[0;36m12\u001b[0m\u001b[0;34m]\u001b[0m\u001b[0;34m)\u001b[0m\u001b[0;34m,\u001b[0m \u001b[0msum\u001b[0m\u001b[0;34m(\u001b[0m\u001b[0mhist\u001b[0m\u001b[0;34m[\u001b[0m\u001b[0;36m55\u001b[0m\u001b[0;34m:\u001b[0m\u001b[0;36m65\u001b[0m\u001b[0;34m]\u001b[0m\u001b[0;34m)\u001b[0m\u001b[0;34m)\u001b[0m\u001b[0;34m\u001b[0m\u001b[0m\n\u001b[0m",
      "\u001b[0;31mNameError\u001b[0m: name 'hist' is not defined"
     ]
    }
   ],
   "source": [
    "print(sum(hist[0:12]), sum(hist[55:65]))"
   ]
  },
  {
   "cell_type": "code",
   "execution_count": 40,
   "metadata": {
    "collapsed": false
   },
   "outputs": [
    {
     "name": "stdout",
     "output_type": "stream",
     "text": [
      "[ 219.] [ 214.]\n"
     ]
    },
    {
     "data": {
      "image/png": "[encoded data removed]",
      "text/plain": [
       "<matplotlib.figure.Figure at 0x11a2da4e0>"
      ]
     },
     "metadata": {},
     "output_type": "display_data"
    },
    {
     "data": {
      "image/png": "[encoded data removed]",
      "text/plain": [
       "<matplotlib.figure.Figure at 0x11a3d7d30>"
      ]
     },
     "metadata": {},
     "output_type": "display_data"
    }
   ],
   "source": [
    "img = cv2.imread('full_screen.png', cv2.IMREAD_UNCHANGED)\n",
    "img = img[:,:,::-1] # OpenCV BGR -> RGB\n",
    "\n",
    "h, w, c = img.shape\n",
    "\n",
    "# Player status\n",
    "factor = 0.226\n",
    "y1 = int(h * 0.044)\n",
    "x1 = int(w * (0.5 - factor))\n",
    "y2 = y1+1\n",
    "x2 = int(w * (0.5 + factor))\n",
    "pl_status = img[y1:y2, x1:x2, :]\n",
    "\n",
    "# Block out center of player status\n",
    "h, w, c = pl_status.shape\n",
    "factor = .12\n",
    "x1 = int(np.round(w * (0.5 - factor)))+1\n",
    "x2 = int(np.round(w * (0.5 + factor)))\n",
    "pl_status[:, x1:x2, :] = 0\n",
    "\n",
    "plt.figure(figsize=(16,2))\n",
    "plt.imshow(pl_status)\n",
    "\n",
    "img = pl_status[:,:,::-1] # Put player status from RGB to BGR for OpenCV\n",
    "hsv = cv2.cvtColor(img,cv2.COLOR_BGR2HSV)\n",
    "hist = cv2.calcHist([hsv], [0], None, [256], [0,256])\n",
    "hist[0] = 0\n",
    "plt.figure(figsize=(18,2))\n",
    "plt.plot(hist)\n",
    "plt.xticks(np.arange(0, 100,5))\n",
    "plt.xlim((0, 100))\n",
    "\n",
    "print(sum(hist[0:12]), sum(hist[55:65]))"
   ]
  },
  {
   "cell_type": "code",
   "execution_count": null,
   "metadata": {
    "collapsed": true
   },
   "outputs": [],
   "source": []
  }
 ],
 "metadata": {
  "anaconda-cloud": {},
  "kernelspec": {
   "display_name": "Python [twitch3]",
   "language": "python",
   "name": "Python [twitch3]"
  },
  "language_info": {
   "codemirror_mode": {
    "name": "ipython",
    "version": 3
   },
   "file_extension": ".py",
   "mimetype": "text/x-python",
   "name": "python",
   "nbconvert_exporter": "python",
   "pygments_lexer": "ipython3",
   "version": "3.5.2"
  }
 },
 "nbformat": 4,
 "nbformat_minor": 0
}
