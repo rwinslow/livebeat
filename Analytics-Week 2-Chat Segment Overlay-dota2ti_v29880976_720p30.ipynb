{
 "cells": [
  {
   "cell_type": "code",
   "execution_count": 4,
   "metadata": {
    "collapsed": false
   },
   "outputs": [],
   "source": [
    "import csv\n",
    "import json\n",
    "import os\n",
    "import re\n",
    "import sys\n",
    "\n",
    "from PIL import Image, ImageFilter\n",
    "import imageio\n",
    "import numpy as np\n",
    "import pandas as pd\n",
    "import statsmodels.api as sm\n",
    "import matplotlib.pyplot as plt\n",
    "%matplotlib inline\n",
    "from sklearn.linear_model import LogisticRegression\n",
    "from scipy import ndimage as ndi\n",
    "from skimage import feature\n",
    "from scipy.fftpack import rfft, irfft, fftfreq, rfftfreq\n",
    "from scipy import interpolate\n",
    "\n",
    "def file_tree(start):\n",
    "    \"\"\"Generate file list in directory\"\"\"\n",
    "    file_list = []\n",
    "    for root, dirs, files in os.walk(start):\n",
    "        for f in files:\n",
    "            if f[0] != '.':\n",
    "                file_list.append(f)\n",
    "    return file_list\n",
    "\n",
    "\n",
    "def process_data(data):\n",
    "    \"\"\"Process JSON data\"\"\"\n",
    "    attr = data['attributes']\n",
    "\n",
    "    timestamp = attr['timestamp']\n",
    "    message = attr['message']\n",
    "    author = attr['from']\n",
    "    turbo = attr['tags']['turbo']\n",
    "    sub = attr['tags']['subscriber']\n",
    "\n",
    "    try:\n",
    "        emotes = attr['tags']['emotes']\n",
    "        emote_count = sum([len(emotes[key]) for key in emotes.keys()])\n",
    "    except:\n",
    "        emote_count = 0\n",
    "    \n",
    "    row = {\n",
    "        'timestamp': timestamp,\n",
    "        'author': author,\n",
    "        'message': message,\n",
    "        'turbo': turbo,\n",
    "        'sub': sub,\n",
    "        'emote_count': emote_count\n",
    "    }\n",
    "\n",
    "    return row\n",
    "\n",
    "\n",
    "def high_pass_filter(freq, amp, min_freq):\n",
    "    df = pd.DataFrame(amp, index=freq, columns=['Amplitude'])\n",
    "    df = df.copy()\n",
    "    df[df.index < min_freq] = 0\n",
    "    return df\n",
    "\n",
    "def low_pass_filter(freq, amp, max_freq):\n",
    "    df = pd.DataFrame(amp, index=freq, columns=['Amplitude'])\n",
    "    df = df.copy()\n",
    "    df[df.index > max_freq] = 0\n",
    "    return df\n",
    "\n",
    "def round_to_val(x, val=30):\n",
    "    return int(np.round(x/val) * val)\n",
    "\n",
    "def build_time_frame(ts, before=60, after=10):\n",
    "    return [ts-before, ts+after]\n",
    "\n",
    "def build_time_window(ts, before=60, after=10):\n",
    "    return np.arange(ts-before, ts+after)\n",
    "\n",
    "def fix_overlap(intervals):\n",
    "    all_vals = [list(np.arange(interval[0], interval[1]+1)) for interval in intervals]\n",
    "    all_vals = sorted(list(set([v for row in all_vals for v in row])))\n",
    "    intervals = []\n",
    "    start = 0\n",
    "    for i in range(0, len(all_vals)-1):\n",
    "        if not start:\n",
    "            start = all_vals[i]\n",
    "        elif all_vals[i+1] - all_vals[i] > 1:\n",
    "            intervals.append([start, all_vals[i]])\n",
    "            start = 0\n",
    "        elif i + 1 == len(all_vals) - 1:\n",
    "            intervals.append([start, all_vals[i+1]])\n",
    "    return intervals"
   ]
  },
  {
   "cell_type": "code",
   "execution_count": 17,
   "metadata": {
    "collapsed": false
   },
   "outputs": [],
   "source": [
    "# Set filename\n",
    "filename = '/Volumes/Passport/LiveBeat/video/dota2ti_v29880976_720p30.mp4'\n",
    "\n",
    "# Get video id\n",
    "video_id = re.findall('v\\d+', filename)[0]\n",
    "\n",
    "# Open file handle\n",
    "vid = imageio.get_reader(filename, 'ffmpeg')\n",
    "\n",
    "# Get metadata\n",
    "meta = vid.get_meta_data()\n",
    "fps = int(meta['fps'])\n",
    "nframes = meta['nframes']\n",
    "frames = np.arange(0, int(nframes), 1)\n",
    "\n",
    "# Close video\n",
    "vid.close()\n",
    "\n",
    "# Convert frames to seconds and initialize data frame\n",
    "values = [0] * int(len(frames))\n",
    "df = pd.DataFrame(values).reset_index()\n",
    "df.columns = ['second', 'game']"
   ]
  },
  {
   "cell_type": "code",
   "execution_count": 18,
   "metadata": {
    "collapsed": false
   },
   "outputs": [
    {
     "data": {
      "text/plain": [
       "[<matplotlib.lines.Line2D at 0x11c31e2b0>]"
      ]
     },
     "execution_count": 18,
     "metadata": {},
     "output_type": "execute_result"
    },
    {
     "data": {
      "image/png": "[encoded data removed]",
      "text/plain": [
       "<matplotlib.figure.Figure at 0x11c22e7b8>"
      ]
     },
     "metadata": {},
     "output_type": "display_data"
    }
   ],
   "source": [
    "fig, ax1 = plt.subplots(figsize=(18,2))\n",
    "ax1.plot(df.index, df['game'], '.b')"
   ]
  },
  {
   "cell_type": "code",
   "execution_count": 19,
   "metadata": {
    "collapsed": true
   },
   "outputs": [],
   "source": [
    "time_frames = [[4640,4930],\n",
    "[7250,7540],\n",
    "[9570,10150],\n",
    "[10440,10730],\n",
    "[12180,12760],\n",
    "[13630,13920],\n",
    "[14500,15950],\n",
    "[17690,18560],\n",
    "[19430,19720],\n",
    "[20010,20300],\n",
    "[20590,20880],\n",
    "[21170,21460],\n",
    "[21750,22330],\n",
    "[22620,23490],\n",
    "[24360,25230],\n",
    "[25810,26390],\n",
    "[26680,27550],\n",
    "[27840,29290],\n",
    "[29580,29870],\n",
    "[30160,30450],\n",
    "[30740,31610],\n",
    "[32190,32480],\n",
    "[33060,34510],\n",
    "[35670,35960],\n",
    "[37120,37410],\n",
    "[37990,38570],\n",
    "[40310,40890],\n",
    "]"
   ]
  },
  {
   "cell_type": "code",
   "execution_count": 20,
   "metadata": {
    "collapsed": false
   },
   "outputs": [
    {
     "name": "stdout",
     "output_type": "stream",
     "text": [
      "       second  game\n",
      "42770   42770     0\n",
      "42771   42771     0\n",
      "42772   42772     0\n",
      "42773   42773     0\n",
      "42774   42774     0\n"
     ]
    },
    {
     "data": {
      "text/plain": [
       "[<matplotlib.lines.Line2D at 0x11c4962b0>]"
      ]
     },
     "execution_count": 20,
     "metadata": {},
     "output_type": "execute_result"
    },
    {
     "data": {
      "image/png": "[encoded data removed]",
      "text/plain": [
       "<matplotlib.figure.Figure at 0x11be135f8>"
      ]
     },
     "metadata": {},
     "output_type": "display_data"
    }
   ],
   "source": [
    "print(df.tail())\n",
    "df['game'] = 0\n",
    "for row in time_frames:\n",
    "    start, stop = row\n",
    "    df.loc[(df.index >= start) & (df.index < stop), 'game'] = 1\n",
    "\n",
    "fig, ax1 = plt.subplots(figsize=(18,2))\n",
    "ax1.plot(df.index, df['game'], '.b')"
   ]
  },
  {
   "cell_type": "code",
   "execution_count": 239,
   "metadata": {
    "collapsed": false
   },
   "outputs": [
    {
     "data": {
      "text/plain": [
       "[[4589, 4691],\n",
       " [4693, 4876],\n",
       " [4878, 5214],\n",
       " [5216, 5447],\n",
       " [5449, 5691],\n",
       " [5693, 5849],\n",
       " [5879, 6888],\n",
       " [6890, 6931],\n",
       " [6933, 6948],\n",
       " [6950, 7457],\n",
       " [7459, 7460],\n",
       " [7463, 7469],\n",
       " [8935, 9060],\n",
       " [9067, 9163],\n",
       " [9165, 9227],\n",
       " [9229, 9308],\n",
       " [9310, 9463],\n",
       " [9465, 9701],\n",
       " [9709, 9822],\n",
       " [9832, 9964],\n",
       " [9966, 10076],\n",
       " [10078, 10300],\n",
       " [10303, 10601],\n",
       " [10604, 10649],\n",
       " [10654, 11064],\n",
       " [11066, 11780],\n",
       " [11782, 11859],\n",
       " [11861, 11935],\n",
       " [11937, 11938],\n",
       " [11940, 12123],\n",
       " [12125, 12187],\n",
       " [12190, 12193],\n",
       " [12195, 12196],\n",
       " [12199, 12204],\n",
       " [14935, 14992],\n",
       " [14994, 15340],\n",
       " [15342, 15343],\n",
       " [15345, 15461],\n",
       " [15465, 15949],\n",
       " [15951, 15985],\n",
       " [16311, 16400],\n",
       " [16402, 16810],\n",
       " [16812, 17103],\n",
       " [17105, 17231],\n",
       " [18891, 19112],\n",
       " [19114, 19289],\n",
       " [19291, 19310],\n",
       " [19313, 19347],\n",
       " [19349, 19353],\n",
       " [19355, 19447],\n",
       " [19452, 19453],\n",
       " [19455, 19697],\n",
       " [19699, 19751],\n",
       " [19757, 19760],\n",
       " [19762, 19946],\n",
       " [19960, 19964],\n",
       " [19966, 19969],\n",
       " [24467, 24570],\n",
       " [24573, 24575],\n",
       " [24577, 24696],\n",
       " [24698, 24717],\n",
       " [24719, 25177],\n",
       " [25179, 25270],\n",
       " [25278, 26087],\n",
       " [27977, 28000],\n",
       " [28002, 28242],\n",
       " [28253, 29014],\n",
       " [29017, 29025],\n",
       " [29027, 29130],\n",
       " [29132, 29138],\n",
       " [29140, 29141],\n",
       " [29146, 29147],\n",
       " [29149, 29267],\n",
       " [29269, 29270],\n",
       " [29277, 29292],\n",
       " [29294, 29295],\n",
       " [29300, 29301],\n",
       " [29305, 29306],\n",
       " [29308, 29312],\n",
       " [29314, 29315],\n",
       " [29317, 29318],\n",
       " [29320, 29399],\n",
       " [29402, 29480],\n",
       " [29491, 29492],\n",
       " [29494, 29526],\n",
       " [29528, 29675],\n",
       " [29677, 29825],\n",
       " [29827, 30131],\n",
       " [30134, 30175],\n",
       " [30184, 30185],\n",
       " [30187, 30316]]"
      ]
     },
     "execution_count": 239,
     "metadata": {},
     "output_type": "execute_result"
    }
   ],
   "source": [
    "time_frames"
   ]
  },
  {
   "cell_type": "code",
   "execution_count": null,
   "metadata": {
    "collapsed": true
   },
   "outputs": [],
   "source": []
  }
 ],
 "metadata": {
  "anaconda-cloud": {},
  "kernelspec": {
   "display_name": "Python [twitch3]",
   "language": "python",
   "name": "Python [twitch3]"
  },
  "language_info": {
   "codemirror_mode": {
    "name": "ipython",
    "version": 3
   },
   "file_extension": ".py",
   "mimetype": "text/x-python",
   "name": "python",
   "nbconvert_exporter": "python",
   "pygments_lexer": "ipython3",
   "version": "3.5.2"
  }
 },
 "nbformat": 4,
 "nbformat_minor": 0
}
